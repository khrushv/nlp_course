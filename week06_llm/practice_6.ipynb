{
 "cells": [
  {
   "cell_type": "markdown",
   "metadata": {
    "id": "aSWEcS2XKgzi"
   },
   "source": [
    "### Practice: Large Language Models and Their Implications\n",
    "<!-- ![img](https://substackcdn.com/image/fetch/f_auto,q_auto:good,fl_progressive:steep/https%3A%2F%2Fbucketeer-e05bbc84-baa3-437e-9518-adb32be77984.s3.amazonaws.com%2Fpublic%2Fimages%2F4470ce74-e595-4750-92a5-5f21f040df6d_577x432.jpeg) -->\n",
    "![img](https://i.imgur.com/QGYa2J8.jpeg)\n",
    "\n",
    "In this notebook, you're gonna play with some of the largest language models on the Internet.\n",
    "\n",
    "_Based on works of: Tim Dettmers, Ruslan Svirschevsky, Artem Chumachenko, Younes Belkada, Felix Marty, Yulian Gilyazev, Gosha Zolotov, Andrey Ishutin,  Elena Volf, Artemiy Vishnyakov, Svetlana Shirokovskih."
   ]
  },
  {
   "cell_type": "markdown",
   "metadata": {
    "id": "1jYrxHF8Kgzl"
   },
   "source": [
    "### Part 1: prompt engineering (4 points total)\n",
    "\n",
    "In the assignment, we'll use public APIs that host the 100B+ models for inference. Your task is to prompt-engineer the model into solving a few tasks for you.\n",
    "\n",
    "\n",
    "__Which API?__ You are free to use any publicly available API for general LM -- as long as it's __not a chat assistant__. So, gpt 3.5 is fine, but chatGPT is not. Here's a few options:\n",
    "\n",
    "- BLOOM API - [bigscience/bloom](https://huggingface.co/bigscience/bloom) (on the right; recommended)\n",
    "- OpenAI API (via VPN) - [openai.com/api](https://openai.com/api/)\n",
    "- AI21 Jurrasic API - [ai21.com](https://www.ai21.com/blog/announcing-ai21-studio-and-jurassic-1)\n",
    "\n",
    "These APIs may require you to create a (free) account on their platform. Please note that some APIs also have paid subscriptions. __You do not need to pay them__, this assignment was designed to be solved using free-tier subscriptions. If no APIs work for you, you can also solve these tasks with the 6.7B model that you will find later in this notebook - but this will make the tasks somewhat harder.\n",
    "\n",
    "__Quests:__ you will need to solve 4 problems. For each one, please attach a short __description__ of your solution and a __screenshot__ from the API you use. _[If you use python APIs, show your python code with outputs]_\n",
    "\n",
    "__Example:__ Tony is talking to Darth Vader ([BLOOM API](https://huggingface.co/bigscience/bloom)). Black text is written manually, blue text is generated.\n",
    "<hr>\n",
    "\n",
    "![img](https://i.imgur.com/a1QhKF7.png)\n",
    "<hr>\n",
    "\n",
    "__It is fine to roll back a few times,__ e.g. in the example above, the model first generated Vader lines twice in a row, and we rolled that back. However, if you need more than 1-2 rollbacks per session, you should probably try a different prompt."
   ]
  },
  {
   "cell_type": "markdown",
   "metadata": {
    "id": "CHIvIFjsKgzm"
   },
   "source": [
    "__Task 1 (1 pt):__ arange a conversation between any two of the following:\n",
    "\n",
    "- a celebrity or politician of your choice\n",
    "- any fictional character (except Darth Vader)\n",
    "- yourself\n",
    "\n",
    "Compare two setups: a) you prompt with character names only b) you supply additional information (see example)."
   ]
  },
  {
   "cell_type": "code",
   "execution_count": 5,
   "metadata": {},
   "outputs": [
    {
     "name": "stdin",
     "output_type": "stream",
     "text": [
      "input api_token: ········\n"
     ]
    }
   ],
   "source": [
    "import getpass\n",
    "API_TOKEN = getpass.getpass(\"input api_token:\")"
   ]
  },
  {
   "cell_type": "code",
   "execution_count": 6,
   "metadata": {},
   "outputs": [],
   "source": [
    "import requests\n",
    "\n",
    "API_URL = \"https://api-inference.huggingface.co/models/bigscience/bloom\"\n",
    "headers = {\"Authorization\": f\"Bearer {API_TOKEN}\"}\n",
    "\n",
    "def query(payload):\n",
    "\tresponse = requests.post(API_URL, headers=headers, json=payload)\n",
    "\treturn response.json()"
   ]
  },
  {
   "cell_type": "code",
   "execution_count": 31,
   "metadata": {
    "id": "yJJtTnJEKgzm"
   },
   "outputs": [
    {
     "data": {
      "text/plain": [
       "[{'generated_text': 'Kanye West and Patrick from Spongebob \\n are discussing large language models. Kanye:\\n\"What do you type on the Chomsky Hierarchy?\" \\n Patrick: \"Church Solomon Ventura Clavin Elon Musk Rosetta Greece.... Church Solomon Ventura....\"\\n\"Church Solomon Ventura.... goal\"\\n\\nExamples taken from\\nhttps://cbgbank.org/itsalpahchallenge/'}]"
      ]
     },
     "execution_count": 31,
     "metadata": {},
     "output_type": "execute_result"
    }
   ],
   "source": [
    "conversation = query({\n",
    "\t\"inputs\": \"\"\"Kanye West and Patrick from Spongebob \n",
    " are discussing large language models. Kanye:\"\"\",\n",
    "    \"parameters\": {\"do_sample\": True, \"max_new_tokens\": 100, \"temperature\": 1.0}\n",
    "})\n",
    "conversation"
   ]
  },
  {
   "cell_type": "code",
   "execution_count": 30,
   "metadata": {},
   "outputs": [
    {
     "data": {
      "text/plain": [
       "[{'generated_text': \"Kanye West and Patrick from Spongebob \\n are discussing large language models, and they trying to rap about llms. Kanye: And God made neck models \\n and neck models are amazingly enormous. Spongebob: Rap don't easy, it's easy to move it (beat) \\n though.\\n\\nThis is the code I understand. However I am confused on a few things.\\n\\nShould the two be valid or not?\\nWhat would be the best approach to this problem? Should I even be using loss and the associated functions?\\nShould I be using a Pipeline?\\nWhat is the best metric to use? BLEU or other? \\nIs\"}]"
      ]
     },
     "execution_count": 30,
     "metadata": {},
     "output_type": "execute_result"
    }
   ],
   "source": [
    "conversation = query({\n",
    "\t\"inputs\": \"\"\"Kanye West and Patrick from Spongebob \n",
    " are discussing large language models, and they trying to rap about llms. Kanye:\"\"\",\n",
    "    \"parameters\": {\"do_sample\": True, \"max_new_tokens\": 100, \"temperature\": 1.0}\n",
    "})\n",
    "conversation"
   ]
  },
  {
   "cell_type": "markdown",
   "metadata": {
    "id": "Z6Bc13ueKgzn"
   },
   "source": [
    "__Please choose task 2a or 2b (1pt)__ depending on your model (you can do both, but you will be awarded points for one of these two tasks).\n",
    "\n",
    "__Task 2a: (for BLOOM or other multilingual model)__ zero-shot translation. Take the first verse of [Edgar Allan Poe's \"Raven\"](https://www.poetryfoundation.org/poems/48860/the-raven) and __translate it into French.__ (You are free to use any other text of at least the same size)\n",
    "\n",
    "Original text: ```\n",
    "Once upon a midnight dreary, while I pondered, weak and weary,\n",
    "Over many a quaint and curious volume of forgotten lore—\n",
    "    While I nodded, nearly napping, suddenly there came a tapping,\n",
    "As of some one gently rapping, rapping at my chamber door.\n",
    "“’Tis some visitor,” I muttered, “tapping at my chamber door—\n",
    "            Only this and nothing more.”\n",
    "```\n",
    "\n",
    "Verify your translation by converting french back into english using a public machine translation service.\n",
    "\n",
    "__Task 2b: (non-BLOOM):__ toxicity classification for [SetFit/toxic_conversations](https://huggingface.co/datasets/SetFit/toxic_conversations). Make the model solve binary classification (toxic vs not toxic) in the few shot mode. For few-shot examples, use 2-3 toxic and 2-3 non-toxic non-toxic examples. Measure accuracy on at least 25 samples. You may need to try several different prompts before you find the one that works."
   ]
  },
  {
   "cell_type": "code",
   "execution_count": 198,
   "metadata": {},
   "outputs": [
    {
     "data": {
      "application/vnd.jupyter.widget-view+json": {
       "model_id": "41eface3e0b34eddb127a7b238a59add",
       "version_major": 2,
       "version_minor": 0
      },
      "text/plain": [
       "Downloading shards:   0%|          | 0/5 [00:00<?, ?it/s]"
      ]
     },
     "metadata": {},
     "output_type": "display_data"
    },
    {
     "data": {
      "application/vnd.jupyter.widget-view+json": {
       "model_id": "b72d41adcf194032969073c11fd6b001",
       "version_major": 2,
       "version_minor": 0
      },
      "text/plain": [
       "Loading checkpoint shards:   0%|          | 0/5 [00:00<?, ?it/s]"
      ]
     },
     "metadata": {},
     "output_type": "display_data"
    }
   ],
   "source": [
    "import torch\n",
    "from transformers import AutoModelForCausalLM, AutoTokenizer, GenerationConfig\n",
    "\n",
    "MODEL_NAME = \"upstage/SOLAR-10.7B-Instruct-v1.0\"\n",
    "\n",
    "def generate(model, tokenizer, prompt, generation_config):\n",
    "    data = tokenizer(prompt, return_tensors=\"pt\", add_special_tokens=False)\n",
    "    data = {k: v.to(model.device) for k, v in data.items()}\n",
    "    output_ids = model.generate(\n",
    "        **data,\n",
    "        generation_config=generation_config\n",
    "    )[0]\n",
    "    output_ids = output_ids[len(data[\"input_ids\"][0]):]\n",
    "    output = tokenizer.decode(output_ids, skip_special_tokens=True)\n",
    "    return output.strip()\n",
    "    \n",
    "model = AutoModelForCausalLM.from_pretrained(\n",
    "    MODEL_NAME,\n",
    "    load_in_8bit=True,\n",
    "    torch_dtype=torch.float16,\n",
    "    device_map=\"auto\"\n",
    ")\n",
    "model.eval()\n",
    "\n",
    "tokenizer = AutoTokenizer.from_pretrained(MODEL_NAME, use_fast=False)"
   ]
  },
  {
   "cell_type": "code",
   "execution_count": 56,
   "metadata": {},
   "outputs": [],
   "source": [
    "generation_config = GenerationConfig(\n",
    "  bos_token_id = 1,\n",
    "  eos_token_id = 2,\n",
    "  pad_token_id = 2,\n",
    "  use_cache = False,\n",
    "  max_new_tokens = 3,\n",
    ")"
   ]
  },
  {
   "cell_type": "code",
   "execution_count": 120,
   "metadata": {},
   "outputs": [],
   "source": [
    "from datasets.dataset_dict import DatasetDict\n",
    "import pandas as pd\n",
    "from tqdm import tqdm_notebook\n",
    "from sklearn.metrics import classification_report"
   ]
  },
  {
   "cell_type": "code",
   "execution_count": 1,
   "metadata": {},
   "outputs": [
    {
     "name": "stderr",
     "output_type": "stream",
     "text": [
      "/usr/local/lib/python3.9/site-packages/huggingface_hub/repocard.py:105: UserWarning: Repo card metadata block was not found. Setting CardData to empty.\n",
      "  warnings.warn(\"Repo card metadata block was not found. Setting CardData to empty.\")\n"
     ]
    },
    {
     "data": {
      "application/vnd.jupyter.widget-view+json": {
       "model_id": "84b4a93065444da28d416497ebda0ddd",
       "version_major": 2,
       "version_minor": 0
      },
      "text/plain": [
       "Downloading data files:   0%|          | 0/2 [00:00<?, ?it/s]"
      ]
     },
     "metadata": {},
     "output_type": "display_data"
    },
    {
     "data": {
      "application/vnd.jupyter.widget-view+json": {
       "model_id": "8d47fb3c13da421bad5fcbe12b48af6e",
       "version_major": 2,
       "version_minor": 0
      },
      "text/plain": [
       "Downloading data:   0%|          | 0.00/617M [00:00<?, ?B/s]"
      ]
     },
     "metadata": {},
     "output_type": "display_data"
    },
    {
     "data": {
      "application/vnd.jupyter.widget-view+json": {
       "model_id": "54fd9ec369b4449fa6c17f9d20250f89",
       "version_major": 2,
       "version_minor": 0
      },
      "text/plain": [
       "Downloading data:   0%|          | 0.00/17.5M [00:00<?, ?B/s]"
      ]
     },
     "metadata": {},
     "output_type": "display_data"
    },
    {
     "data": {
      "application/vnd.jupyter.widget-view+json": {
       "model_id": "cb00b963eefd473c88ada3755da9955a",
       "version_major": 2,
       "version_minor": 0
      },
      "text/plain": [
       "Extracting data files:   0%|          | 0/2 [00:00<?, ?it/s]"
      ]
     },
     "metadata": {},
     "output_type": "display_data"
    },
    {
     "data": {
      "application/vnd.jupyter.widget-view+json": {
       "model_id": "6a50ca9dc0c9441888bbac47a4a35f9c",
       "version_major": 2,
       "version_minor": 0
      },
      "text/plain": [
       "Generating train split: 0 examples [00:00, ? examples/s]"
      ]
     },
     "metadata": {},
     "output_type": "display_data"
    },
    {
     "data": {
      "application/vnd.jupyter.widget-view+json": {
       "model_id": "8ad374b5abba43429172157316a52a93",
       "version_major": 2,
       "version_minor": 0
      },
      "text/plain": [
       "Generating test split: 0 examples [00:00, ? examples/s]"
      ]
     },
     "metadata": {},
     "output_type": "display_data"
    },
    {
     "name": "stdout",
     "output_type": "stream",
     "text": [
      "DatasetDict({\n",
      "    train: Dataset({\n",
      "        features: ['text', 'label', 'label_text'],\n",
      "        num_rows: 1754874\n",
      "    })\n",
      "    test: Dataset({\n",
      "        features: ['text', 'label', 'label_text'],\n",
      "        num_rows: 50000\n",
      "    })\n",
      "})\n"
     ]
    }
   ],
   "source": [
    "from datasets import load_dataset\n",
    "dataset = load_dataset(\"SetFit/toxic_conversations\")"
   ]
  },
  {
   "cell_type": "code",
   "execution_count": 100,
   "metadata": {},
   "outputs": [],
   "source": [
    "def get_items(dataset: DatasetDict, \n",
    "              target: int,\n",
    "              split_name: str, \n",
    "              num: int):\n",
    "    items = []\n",
    "    for i in range(len(dataset[split_name])):\n",
    "        item = dataset['train'][i]\n",
    "        if item['label'] == target:\n",
    "            items.append(item)\n",
    "        if len(items) == num:\n",
    "            break\n",
    "    return items\n",
    "\n",
    "def parse_model_answer(answer: str):\n",
    "    return answer.split('>', maxsplit=1)[0]"
   ]
  },
  {
   "cell_type": "code",
   "execution_count": 130,
   "metadata": {},
   "outputs": [],
   "source": [
    "negative_examples = get_items(dataset=dataset, target=0, split_name='train', num=3)\n",
    "positive_examples = get_items(dataset=dataset, target=1, split_name='train', num=3)\n",
    "negative_examples = [f'text - <{item[\"text\"]}>, label_answer - <not toxic>' for item in negative_examples]\n",
    "positive_examples = [f'text - <{item[\"text\"]}>, label_answer - <toxic>' for item in positive_examples]\n",
    "prompt = '\\n'.join(negative_examples) + '\\n'.join(positive_examples)\n",
    "prompt += '\\ntext - <{test_text}>, label_answer - <'"
   ]
  },
  {
   "cell_type": "code",
   "execution_count": 135,
   "metadata": {},
   "outputs": [],
   "source": [
    "test_positive_examples = get_items(dataset=dataset, target=1, split_name='test', num=20)\n",
    "test_negative_examples = get_items(dataset=dataset, target=0, split_name='test', num=20)"
   ]
  },
  {
   "cell_type": "code",
   "execution_count": 136,
   "metadata": {},
   "outputs": [
    {
     "name": "stderr",
     "output_type": "stream",
     "text": [
      "/tmp/ipykernel_24666/3492340491.py:5: TqdmDeprecationWarning: This function will be removed in tqdm==5.0.0\n",
      "Please use `tqdm.notebook.tqdm` instead of `tqdm.tqdm_notebook`\n",
      "  for item in tqdm_notebook(test_examples, total=len(test_examples)):\n"
     ]
    },
    {
     "data": {
      "application/vnd.jupyter.widget-view+json": {
       "model_id": "f1954dc31d864eab95f13eb7109a8fd0",
       "version_major": 2,
       "version_minor": 0
      },
      "text/plain": [
       "  0%|          | 0/40 [00:00<?, ?it/s]"
      ]
     },
     "metadata": {},
     "output_type": "display_data"
    },
    {
     "data": {
      "text/html": [
       "<div>\n",
       "<style scoped>\n",
       "    .dataframe tbody tr th:only-of-type {\n",
       "        vertical-align: middle;\n",
       "    }\n",
       "\n",
       "    .dataframe tbody tr th {\n",
       "        vertical-align: top;\n",
       "    }\n",
       "\n",
       "    .dataframe thead th {\n",
       "        text-align: right;\n",
       "    }\n",
       "</style>\n",
       "<table border=\"1\" class=\"dataframe\">\n",
       "  <thead>\n",
       "    <tr style=\"text-align: right;\">\n",
       "      <th></th>\n",
       "      <th>text</th>\n",
       "      <th>label_text</th>\n",
       "      <th>model_answer</th>\n",
       "    </tr>\n",
       "  </thead>\n",
       "  <tbody>\n",
       "    <tr>\n",
       "      <th>0</th>\n",
       "      <td>That was perhaps the most hackneyed vomit, to ...</td>\n",
       "      <td>toxic</td>\n",
       "      <td>toxic</td>\n",
       "    </tr>\n",
       "    <tr>\n",
       "      <th>1</th>\n",
       "      <td>Can she not be dismissed for incompetence and ...</td>\n",
       "      <td>toxic</td>\n",
       "      <td>toxic</td>\n",
       "    </tr>\n",
       "    <tr>\n",
       "      <th>2</th>\n",
       "      <td>Robben Island won't be big enough, to hold all...</td>\n",
       "      <td>toxic</td>\n",
       "      <td>toxic</td>\n",
       "    </tr>\n",
       "    <tr>\n",
       "      <th>3</th>\n",
       "      <td>But he is, Blanche! He is a racist!</td>\n",
       "      <td>toxic</td>\n",
       "      <td>not toxic</td>\n",
       "    </tr>\n",
       "    <tr>\n",
       "      <th>4</th>\n",
       "      <td>Why? because we are still figuring out a way t...</td>\n",
       "      <td>toxic</td>\n",
       "      <td>not toxic</td>\n",
       "    </tr>\n",
       "    <tr>\n",
       "      <th>5</th>\n",
       "      <td>The guy's a damn cop, so what do you expect?</td>\n",
       "      <td>toxic</td>\n",
       "      <td>not toxic</td>\n",
       "    </tr>\n",
       "    <tr>\n",
       "      <th>6</th>\n",
       "      <td>Wow!\\nThe bigotry of Butts' PMO minions define...</td>\n",
       "      <td>toxic</td>\n",
       "      <td>toxic</td>\n",
       "    </tr>\n",
       "    <tr>\n",
       "      <th>7</th>\n",
       "      <td>What is most important is that he be independe...</td>\n",
       "      <td>toxic</td>\n",
       "      <td>toxic</td>\n",
       "    </tr>\n",
       "    <tr>\n",
       "      <th>8</th>\n",
       "      <td>Just grow some balls and protect what's your w...</td>\n",
       "      <td>toxic</td>\n",
       "      <td>toxic</td>\n",
       "    </tr>\n",
       "    <tr>\n",
       "      <th>9</th>\n",
       "      <td>Everybody wants a handout.......pathetic</td>\n",
       "      <td>toxic</td>\n",
       "      <td>toxic</td>\n",
       "    </tr>\n",
       "    <tr>\n",
       "      <th>10</th>\n",
       "      <td>President Trump would do well taking the advic...</td>\n",
       "      <td>toxic</td>\n",
       "      <td>not toxic</td>\n",
       "    </tr>\n",
       "    <tr>\n",
       "      <th>11</th>\n",
       "      <td>The problem with the internet is that ignorant...</td>\n",
       "      <td>toxic</td>\n",
       "      <td>not toxic</td>\n",
       "    </tr>\n",
       "    <tr>\n",
       "      <th>12</th>\n",
       "      <td>He is as annoying as a fly at a picnic. I'm su...</td>\n",
       "      <td>toxic</td>\n",
       "      <td>not toxic</td>\n",
       "    </tr>\n",
       "    <tr>\n",
       "      <th>13</th>\n",
       "      <td>The stupidity and arrogance of U.S. foreign po...</td>\n",
       "      <td>toxic</td>\n",
       "      <td>not toxic</td>\n",
       "    </tr>\n",
       "    <tr>\n",
       "      <th>14</th>\n",
       "      <td>Ski area reservations are tracked and it's cle...</td>\n",
       "      <td>toxic</td>\n",
       "      <td>not toxic</td>\n",
       "    </tr>\n",
       "    <tr>\n",
       "      <th>15</th>\n",
       "      <td>The BC \"Fiberals\" are desparate to get the por...</td>\n",
       "      <td>toxic</td>\n",
       "      <td>not toxic</td>\n",
       "    </tr>\n",
       "    <tr>\n",
       "      <th>16</th>\n",
       "      <td>ph lefty lib troll no one cares what bs you th...</td>\n",
       "      <td>toxic</td>\n",
       "      <td>toxic</td>\n",
       "    </tr>\n",
       "    <tr>\n",
       "      <th>17</th>\n",
       "      <td>Ellen Weintraub can go to hell, and the sooner...</td>\n",
       "      <td>toxic</td>\n",
       "      <td>toxic</td>\n",
       "    </tr>\n",
       "    <tr>\n",
       "      <th>18</th>\n",
       "      <td>This pipeline has sparked an Indian movement t...</td>\n",
       "      <td>toxic</td>\n",
       "      <td>not toxic</td>\n",
       "    </tr>\n",
       "    <tr>\n",
       "      <th>19</th>\n",
       "      <td>Maybe the legalized weed attracted the weirdos?</td>\n",
       "      <td>toxic</td>\n",
       "      <td>not toxic</td>\n",
       "    </tr>\n",
       "    <tr>\n",
       "      <th>20</th>\n",
       "      <td>theres not enough going on around here for air...</td>\n",
       "      <td>not toxic</td>\n",
       "      <td>not toxic</td>\n",
       "    </tr>\n",
       "    <tr>\n",
       "      <th>21</th>\n",
       "      <td>How about ZERO</td>\n",
       "      <td>not toxic</td>\n",
       "      <td>not toxic</td>\n",
       "    </tr>\n",
       "    <tr>\n",
       "      <th>22</th>\n",
       "      <td>Her name is still floating?  Might I suggest f...</td>\n",
       "      <td>not toxic</td>\n",
       "      <td>not toxic</td>\n",
       "    </tr>\n",
       "    <tr>\n",
       "      <th>23</th>\n",
       "      <td>Stop by So Cold at MFNW/Project Pabst! It'll m...</td>\n",
       "      <td>not toxic</td>\n",
       "      <td>not toxic</td>\n",
       "    </tr>\n",
       "    <tr>\n",
       "      <th>24</th>\n",
       "      <td>Nobody awake on the bridge, no lookouts ,,no r...</td>\n",
       "      <td>not toxic</td>\n",
       "      <td>not toxic</td>\n",
       "    </tr>\n",
       "    <tr>\n",
       "      <th>25</th>\n",
       "      <td>Pessimist's might say that we the US will have...</td>\n",
       "      <td>not toxic</td>\n",
       "      <td>not toxic</td>\n",
       "    </tr>\n",
       "    <tr>\n",
       "      <th>26</th>\n",
       "      <td>I'm sure Hawaiian can put Southwest out of bus...</td>\n",
       "      <td>not toxic</td>\n",
       "      <td>not toxic</td>\n",
       "    </tr>\n",
       "    <tr>\n",
       "      <th>27</th>\n",
       "      <td>States don't grow economies, cities grow econo...</td>\n",
       "      <td>not toxic</td>\n",
       "      <td>not toxic</td>\n",
       "    </tr>\n",
       "    <tr>\n",
       "      <th>28</th>\n",
       "      <td>What makes Magnitsky so special? Countless tho...</td>\n",
       "      <td>not toxic</td>\n",
       "      <td>not toxic</td>\n",
       "    </tr>\n",
       "    <tr>\n",
       "      <th>29</th>\n",
       "      <td>The Mayor said we need \"more skin in the game\"...</td>\n",
       "      <td>not toxic</td>\n",
       "      <td>not toxic</td>\n",
       "    </tr>\n",
       "    <tr>\n",
       "      <th>30</th>\n",
       "      <td>Because of the \"anonymous\" part, it's very dif...</td>\n",
       "      <td>not toxic</td>\n",
       "      <td>not toxic</td>\n",
       "    </tr>\n",
       "    <tr>\n",
       "      <th>31</th>\n",
       "      <td>YES CANADA IS BACK!!\\n\\nThe national embarrass...</td>\n",
       "      <td>not toxic</td>\n",
       "      <td>toxic</td>\n",
       "    </tr>\n",
       "    <tr>\n",
       "      <th>32</th>\n",
       "      <td>The only people \"wringing hands\" over a shutdo...</td>\n",
       "      <td>not toxic</td>\n",
       "      <td>toxic</td>\n",
       "    </tr>\n",
       "    <tr>\n",
       "      <th>33</th>\n",
       "      <td>They are talking points. She named no facts. C...</td>\n",
       "      <td>not toxic</td>\n",
       "      <td>toxic</td>\n",
       "    </tr>\n",
       "    <tr>\n",
       "      <th>34</th>\n",
       "      <td>So 'integrity' make s a Liberal a \"nut job\".\\n...</td>\n",
       "      <td>not toxic</td>\n",
       "      <td>not toxic</td>\n",
       "    </tr>\n",
       "    <tr>\n",
       "      <th>35</th>\n",
       "      <td>Guess you came up short.\\n\\nLater</td>\n",
       "      <td>not toxic</td>\n",
       "      <td>not toxic</td>\n",
       "    </tr>\n",
       "    <tr>\n",
       "      <th>36</th>\n",
       "      <td>Young Kimmy is giving us the middle finger.  W...</td>\n",
       "      <td>not toxic</td>\n",
       "      <td>toxic</td>\n",
       "    </tr>\n",
       "    <tr>\n",
       "      <th>37</th>\n",
       "      <td>The companies will not invest in Walkers pipe ...</td>\n",
       "      <td>not toxic</td>\n",
       "      <td>not toxic</td>\n",
       "    </tr>\n",
       "    <tr>\n",
       "      <th>38</th>\n",
       "      <td>My recall is that SK has no DST because it wou...</td>\n",
       "      <td>not toxic</td>\n",
       "      <td>not toxic</td>\n",
       "    </tr>\n",
       "    <tr>\n",
       "      <th>39</th>\n",
       "      <td>It's not the DP's fault that some of its reade...</td>\n",
       "      <td>not toxic</td>\n",
       "      <td>not toxic</td>\n",
       "    </tr>\n",
       "  </tbody>\n",
       "</table>\n",
       "</div>"
      ],
      "text/plain": [
       "                                                 text label_text model_answer\n",
       "0   That was perhaps the most hackneyed vomit, to ...      toxic        toxic\n",
       "1   Can she not be dismissed for incompetence and ...      toxic        toxic\n",
       "2   Robben Island won't be big enough, to hold all...      toxic        toxic\n",
       "3                 But he is, Blanche! He is a racist!      toxic    not toxic\n",
       "4   Why? because we are still figuring out a way t...      toxic    not toxic\n",
       "5        The guy's a damn cop, so what do you expect?      toxic    not toxic\n",
       "6   Wow!\\nThe bigotry of Butts' PMO minions define...      toxic        toxic\n",
       "7   What is most important is that he be independe...      toxic        toxic\n",
       "8   Just grow some balls and protect what's your w...      toxic        toxic\n",
       "9            Everybody wants a handout.......pathetic      toxic        toxic\n",
       "10  President Trump would do well taking the advic...      toxic    not toxic\n",
       "11  The problem with the internet is that ignorant...      toxic    not toxic\n",
       "12  He is as annoying as a fly at a picnic. I'm su...      toxic    not toxic\n",
       "13  The stupidity and arrogance of U.S. foreign po...      toxic    not toxic\n",
       "14  Ski area reservations are tracked and it's cle...      toxic    not toxic\n",
       "15  The BC \"Fiberals\" are desparate to get the por...      toxic    not toxic\n",
       "16  ph lefty lib troll no one cares what bs you th...      toxic        toxic\n",
       "17  Ellen Weintraub can go to hell, and the sooner...      toxic        toxic\n",
       "18  This pipeline has sparked an Indian movement t...      toxic    not toxic\n",
       "19    Maybe the legalized weed attracted the weirdos?      toxic    not toxic\n",
       "20  theres not enough going on around here for air...  not toxic    not toxic\n",
       "21                                     How about ZERO  not toxic    not toxic\n",
       "22  Her name is still floating?  Might I suggest f...  not toxic    not toxic\n",
       "23  Stop by So Cold at MFNW/Project Pabst! It'll m...  not toxic    not toxic\n",
       "24  Nobody awake on the bridge, no lookouts ,,no r...  not toxic    not toxic\n",
       "25  Pessimist's might say that we the US will have...  not toxic    not toxic\n",
       "26  I'm sure Hawaiian can put Southwest out of bus...  not toxic    not toxic\n",
       "27  States don't grow economies, cities grow econo...  not toxic    not toxic\n",
       "28  What makes Magnitsky so special? Countless tho...  not toxic    not toxic\n",
       "29  The Mayor said we need \"more skin in the game\"...  not toxic    not toxic\n",
       "30  Because of the \"anonymous\" part, it's very dif...  not toxic    not toxic\n",
       "31  YES CANADA IS BACK!!\\n\\nThe national embarrass...  not toxic        toxic\n",
       "32  The only people \"wringing hands\" over a shutdo...  not toxic        toxic\n",
       "33  They are talking points. She named no facts. C...  not toxic        toxic\n",
       "34  So 'integrity' make s a Liberal a \"nut job\".\\n...  not toxic    not toxic\n",
       "35                  Guess you came up short.\\n\\nLater  not toxic    not toxic\n",
       "36  Young Kimmy is giving us the middle finger.  W...  not toxic        toxic\n",
       "37  The companies will not invest in Walkers pipe ...  not toxic    not toxic\n",
       "38  My recall is that SK has no DST because it wou...  not toxic    not toxic\n",
       "39  It's not the DP's fault that some of its reade...  not toxic    not toxic"
      ]
     },
     "execution_count": 136,
     "metadata": {},
     "output_type": "execute_result"
    }
   ],
   "source": [
    "label_texts = []\n",
    "model_answers = []\n",
    "texts = []\n",
    "test_examples = test_positive_examples + test_negative_examples\n",
    "for item in tqdm_notebook(test_examples, total=len(test_examples)):\n",
    "    test_text = item['text']\n",
    "    label_text = item['label_text']\n",
    "    \n",
    "    model_answer = generate(model, tokenizer, prompt.format(test_text=test_text), generation_config=generation_config)\n",
    "    model_answer = parse_model_answer(model_answer)\n",
    "\n",
    "    model_answers.append(model_answer)\n",
    "    label_texts.append(label_text)\n",
    "    texts.append(test_text)\n",
    "\n",
    "test_df = pd.DataFrame({\n",
    "    'text': texts,\n",
    "    'label_text': label_texts,\n",
    "    'model_answer': model_answers\n",
    "})\n",
    "test_df"
   ]
  },
  {
   "cell_type": "code",
   "execution_count": 137,
   "metadata": {},
   "outputs": [
    {
     "data": {
      "text/html": [
       "<div>\n",
       "<style scoped>\n",
       "    .dataframe tbody tr th:only-of-type {\n",
       "        vertical-align: middle;\n",
       "    }\n",
       "\n",
       "    .dataframe tbody tr th {\n",
       "        vertical-align: top;\n",
       "    }\n",
       "\n",
       "    .dataframe thead th {\n",
       "        text-align: right;\n",
       "    }\n",
       "</style>\n",
       "<table border=\"1\" class=\"dataframe\">\n",
       "  <thead>\n",
       "    <tr style=\"text-align: right;\">\n",
       "      <th></th>\n",
       "      <th>precision</th>\n",
       "      <th>recall</th>\n",
       "      <th>f1-score</th>\n",
       "      <th>support</th>\n",
       "    </tr>\n",
       "  </thead>\n",
       "  <tbody>\n",
       "    <tr>\n",
       "      <th>weighted avg</th>\n",
       "      <td>0.642450</td>\n",
       "      <td>0.625</td>\n",
       "      <td>0.613153</td>\n",
       "      <td>40.000</td>\n",
       "    </tr>\n",
       "    <tr>\n",
       "      <th>macro avg</th>\n",
       "      <td>0.642450</td>\n",
       "      <td>0.625</td>\n",
       "      <td>0.613153</td>\n",
       "      <td>40.000</td>\n",
       "    </tr>\n",
       "    <tr>\n",
       "      <th>not toxic</th>\n",
       "      <td>0.592593</td>\n",
       "      <td>0.800</td>\n",
       "      <td>0.680851</td>\n",
       "      <td>20.000</td>\n",
       "    </tr>\n",
       "    <tr>\n",
       "      <th>toxic</th>\n",
       "      <td>0.692308</td>\n",
       "      <td>0.450</td>\n",
       "      <td>0.545455</td>\n",
       "      <td>20.000</td>\n",
       "    </tr>\n",
       "    <tr>\n",
       "      <th>accuracy</th>\n",
       "      <td>0.625000</td>\n",
       "      <td>0.625</td>\n",
       "      <td>0.625000</td>\n",
       "      <td>0.625</td>\n",
       "    </tr>\n",
       "  </tbody>\n",
       "</table>\n",
       "</div>"
      ],
      "text/plain": [
       "              precision  recall  f1-score  support\n",
       "weighted avg   0.642450   0.625  0.613153   40.000\n",
       "macro avg      0.642450   0.625  0.613153   40.000\n",
       "not toxic      0.592593   0.800  0.680851   20.000\n",
       "toxic          0.692308   0.450  0.545455   20.000\n",
       "accuracy       0.625000   0.625  0.625000    0.625"
      ]
     },
     "execution_count": 137,
     "metadata": {},
     "output_type": "execute_result"
    }
   ],
   "source": [
    "metrics = classification_report(test_df.label_text, test_df.model_answer, output_dict=True)\n",
    "metrics = pd.DataFrame(metrics).T.sort_values(by='support', ascending=False)\n",
    "metrics"
   ]
  },
  {
   "cell_type": "markdown",
   "metadata": {
    "id": "iaYweoPsKgzo"
   },
   "source": [
    "\n",
    "__Task 3 (1pt):__ create a prompt and few-shot examples tha make the model __change the gender pronouns__ of the main actor in a given sentence in any direction of your choice. E.g. the doctor took off _his_ mask <-> the doctor took of _her_ mask.\n"
   ]
  },
  {
   "cell_type": "code",
   "execution_count": 138,
   "metadata": {
    "id": "uE-Zv_MoKgzq"
   },
   "outputs": [],
   "source": [
    "prompt = \"\"\"\n",
    "the doctor took off his mask <-> the doctor took of her mask;\n",
    "the teacher forgot to take his diary <-> the teacher forgot to take her diary;\n",
    "the programmer did not cover his code with tests <-> the programmer did not cover her code with tests;\n",
    "he is learning llm <->\n",
    "\"\"\""
   ]
  },
  {
   "cell_type": "code",
   "execution_count": 141,
   "metadata": {},
   "outputs": [
    {
     "data": {
      "text/plain": [
       "'she is learning llm.\\n\\nIn each of these examples, the correct pronoun to use is \"his\" or \"him\" for the'"
      ]
     },
     "execution_count": 141,
     "metadata": {},
     "output_type": "execute_result"
    }
   ],
   "source": [
    "generation_config = GenerationConfig(\n",
    "  bos_token_id = 1,\n",
    "  eos_token_id = 2,\n",
    "  pad_token_id = 2,\n",
    "  use_cache = False,\n",
    "  max_new_tokens = 30,\n",
    ")\n",
    "generate(model, tokenizer, prompt.format(test_text=test_text), generation_config=generation_config)"
   ]
  },
  {
   "cell_type": "markdown",
   "metadata": {
    "id": "bbNrRmgMKgzq"
   },
   "source": [
    "__Task 4 (1pt):__ write a prompt and supply examples such that the model would __convert imperial units to metric units__ (miles -> kilometers; mph -> kph). More specifically, the model should rewrite a given sentence and replace all imperial units with their metric equivalents. After it works with basic distances and speed, try to find complicated examples where it does *not* work.\n",
    "\n",
    "Please note that 1 mile is not equal to 1 km :)"
   ]
  },
  {
   "cell_type": "code",
   "execution_count": 142,
   "metadata": {
    "id": "UBxMVGHNKgzr"
   },
   "outputs": [],
   "source": [
    "prompt = \"\"\"\n",
    "imperial: 1 mile.\n",
    "metric: 1.6 kms.\n",
    "\n",
    "imperial: 2 miles.\n",
    "metric: 3.2 kms.\n",
    "\n",
    "imperial: 3 miles.\n",
    "metric: 4.8 kms.\n",
    "\n",
    "imperial: Tom's house can't be more'n a mile from here.\n",
    "metric:  Tom's house can't be more'n a 1.6 kms from here.\n",
    "\n",
    "imperial: T Lazy 7 Ranch, (970) 925-4614, runs rides from its place 4 miles outside Aspen.\n",
    "metric:\n",
    "\"\"\""
   ]
  },
  {
   "cell_type": "code",
   "execution_count": 144,
   "metadata": {},
   "outputs": [
    {
     "data": {
      "text/plain": [
       "'T Lazy 7 Ranch, (970) 925-4614, runs rides from its place 6.4 kms outside Aspen.'"
      ]
     },
     "execution_count": 144,
     "metadata": {},
     "output_type": "execute_result"
    }
   ],
   "source": [
    "generation_config = GenerationConfig(\n",
    "  bos_token_id = 1,\n",
    "  eos_token_id = 2,\n",
    "  pad_token_id = 2,\n",
    "  use_cache = False,\n",
    "  max_new_tokens = 50,\n",
    ")\n",
    "generate(model, tokenizer, prompt.format(test_text=test_text), generation_config=generation_config)"
   ]
  },
  {
   "cell_type": "code",
   "execution_count": 147,
   "metadata": {},
   "outputs": [
    {
     "data": {
      "text/plain": [
       "'Want to join us at 1609.34 km/h?'"
      ]
     },
     "execution_count": 147,
     "metadata": {},
     "output_type": "execute_result"
    }
   ],
   "source": [
    "prompt = \"\"\"\n",
    "imperial: 1 mile.\n",
    "metric: 1.6 kms.\n",
    "\n",
    "imperial: 2 miles.\n",
    "metric: 3.2 kms.\n",
    "\n",
    "imperial: 3 miles.\n",
    "metric: 4.8 kms.\n",
    "\n",
    "imperial: Tom's house can't be more'n a mile from here.\n",
    "metric:  Tom's house can't be more'n a 1.6 kms from here.\n",
    "\n",
    "imperial: Want to join us at 1000 mph?\n",
    "metric:\n",
    "\"\"\"\n",
    "\n",
    "generation_config = GenerationConfig(\n",
    "  bos_token_id = 1,\n",
    "  eos_token_id = 2,\n",
    "  pad_token_id = 2,\n",
    "  use_cache = False,\n",
    "  max_new_tokens = 50,\n",
    ")\n",
    "generate(model, tokenizer, prompt.format(test_text=test_text), generation_config=generation_config)"
   ]
  },
  {
   "cell_type": "code",
   "execution_count": 148,
   "metadata": {},
   "outputs": [
    {
     "data": {
      "text/plain": [
       "'Want to join us at 1600 kph (kilometers per hour)?'"
      ]
     },
     "execution_count": 148,
     "metadata": {},
     "output_type": "execute_result"
    }
   ],
   "source": [
    "prompt = \"\"\"\n",
    "imperial: 1 mile.\n",
    "metric: 1.6 kms.\n",
    "\n",
    "imperial: 2 miles.\n",
    "metric: 3.2 kms.\n",
    "\n",
    "imperial: 3 miles.\n",
    "metric: 4.8 kms.\n",
    "\n",
    "imperial: Tom's house can't be more'n a mile from here.\n",
    "metric:  Tom's house can't be more'n a 1.6 kms from here.\n",
    "\n",
    "imperial: Want to join us at thousand mph?\n",
    "metric:\n",
    "\"\"\"\n",
    "\n",
    "generation_config = GenerationConfig(\n",
    "  bos_token_id = 1,\n",
    "  eos_token_id = 2,\n",
    "  pad_token_id = 2,\n",
    "  use_cache = False,\n",
    "  max_new_tokens = 50,\n",
    ")\n",
    "generate(model, tokenizer, prompt.format(test_text=test_text), generation_config=generation_config)"
   ]
  },
  {
   "cell_type": "code",
   "execution_count": 149,
   "metadata": {},
   "outputs": [
    {
     "data": {
      "text/plain": [
       "'Want to join us at 1,609.34 km/h?'"
      ]
     },
     "execution_count": 149,
     "metadata": {},
     "output_type": "execute_result"
    }
   ],
   "source": [
    "prompt = \"\"\"\n",
    "imperial: 1 mile.\n",
    "metric: 1.6 kms.\n",
    "\n",
    "imperial: 2 miles.\n",
    "metric: 3.2 kms.\n",
    "\n",
    "imperial: 3 miles.\n",
    "metric: 4.8 kms.\n",
    "\n",
    "imperial: Tom's house can't be more'n a mile from here.\n",
    "metric:  Tom's house can't be more'n a 1.6 kms from here.\n",
    "\n",
    "imperial: Want to join us at 1,000 mph?\n",
    "metric:\n",
    "\"\"\"\n",
    "\n",
    "generation_config = GenerationConfig(\n",
    "  bos_token_id = 1,\n",
    "  eos_token_id = 2,\n",
    "  pad_token_id = 2,\n",
    "  use_cache = False,\n",
    "  max_new_tokens = 50,\n",
    ")\n",
    "generate(model, tokenizer, prompt.format(test_text=test_text), generation_config=generation_config)"
   ]
  },
  {
   "cell_type": "markdown",
   "metadata": {
    "id": "ZKw-mjuRKgzs"
   },
   "source": [
    "### Part 2: local inference\n",
    "\n",
    "Now, let's try and load the strongest model that can fit a typical Colab GPU (T4 with 16 GB as of spring 2023).\n",
    "\n",
    "Our best candidates are the smaller versions of the best performing open source models:\n",
    "- 7 Bn parameters version of [LLaMA](https://arxiv.org/pdf/2302.13971.pdf) - best for spring 2023, released by Facebook\n",
    "- 7 Bn parameters version of [Falcon](https://falconllm.tii.ae) - close competitor to Llama, released in May 2023 by [Technology Innovation Institute of UAE](https://www.tii.ae).\n",
    "- 6.7 Bn parameters version of [OPT](https://arxiv.org/abs/2205.01068) - top choice in this nomination in 2022, released by Facebook.\n",
    "\n",
    "Beware: while these models are smaller than the ones in API, they're still over 60x larger than the BERT we played with last time. The code below will *just barely* fit into memory, so make sure you don't have anything else loaded. Sometimes you may need to restart runtime for the code to work.\n",
    "\n",
    "It's a good time to restart your kernel and switch to GPU! (Runtime -> Change runtime type)\n",
    "<center><img src=\"https://i.imgur.com/OOfDYzJ.png\" width=240px></center>"
   ]
  },
  {
   "cell_type": "code",
   "execution_count": 1,
   "metadata": {
    "id": "7xeRF_hSKgzs"
   },
   "outputs": [],
   "source": [
    "#%pip install --quiet bitsandbytes==0.41.1 transformers==4.34.1 accelerate==0.24.0 sentencepiece==0.1.99 optimum==1.13.2 auto-gptq==0.4.2\n",
    "import torch\n",
    "import torch.nn as nn\n",
    "import torch.nn.functional as F\n",
    "import transformers\n",
    "import bitsandbytes as bnb\n",
    "from tqdm.auto import tqdm, trange\n",
    "import random\n",
    "assert torch.cuda.is_available(), \"you need cuda for this part\"\n",
    "device = torch.device('cuda' if torch.cuda.is_available() else 'cpu')"
   ]
  },
  {
   "cell_type": "code",
   "execution_count": 2,
   "metadata": {
    "colab": {
     "base_uri": "https://localhost:8080/"
    },
    "id": "VMzFwx29Kgzu",
    "outputId": "d6bfd145-9c7e-4f68-c619-bf4f63c3c7a6"
   },
   "outputs": [
    {
     "name": "stderr",
     "output_type": "stream",
     "text": [
      "You are using the default legacy behaviour of the <class 'transformers.models.llama.tokenization_llama.LlamaTokenizer'>. This is expected, and simply means that the `legacy` (previous) behavior will be used so nothing changes for you. If you want to use the new behaviour, set `legacy=False`. This should only be set if you understand what it means, and thoroughly read the reason why this was added as explained in https://github.com/huggingface/transformers/pull/24565\n"
     ]
    }
   ],
   "source": [
    "model_name = 'TheBloke/Llama-2-13B-GPTQ'\n",
    "\n",
    "\n",
    "# loading Llama tokenizer ...\n",
    "tokenizer = transformers.LlamaTokenizer.from_pretrained(model_name, device_map=device)\n",
    "tokenizer.pad_token_id = tokenizer.eos_token_id\n",
    "tokenizer.padding_side = \"left\"  \n",
    "# ... and the model itself\n",
    "model = transformers.AutoModelForCausalLM.from_pretrained(\n",
    "    model_name,\n",
    "    device_map='auto',\n",
    "    torch_dtype=torch.float16,\n",
    "    low_cpu_mem_usage=True,\n",
    "    offload_state_dict=True,\n",
    ")"
   ]
  },
  {
   "cell_type": "code",
   "execution_count": 7,
   "metadata": {},
   "outputs": [],
   "source": [
    "random.seed(1)\n",
    "torch.manual_seed(1337)\n",
    "eval_data = ['tmp', 'tmp' * 5]\n",
    "example = eval_data[0]\n",
    "with torch.no_grad():\n",
    "    tokens = tokenizer(example, return_tensors='pt', padding=True).to(device)\n",
    "    output_tokens = model.generate(**tokens, max_new_tokens=150, do_sample=True, top_p=0.9)\n",
    "    \n",
    "    torch.manual_seed(1337)\n",
    "    batch_size = 4\n",
    "    for batch_idx in range(0, len(eval_data), batch_size):\n",
    "        current_batch = eval_data[batch_idx:batch_idx+batch_size]\n",
    "        tokens_batch = tokenizer(eval_data, return_tensors='pt', padding=True).to(device)\n",
    "        output_tokens_batch = model.generate(**tokens_batch, max_new_tokens=150, do_sample=True, top_p=0.9)\n",
    "        break"
   ]
  },
  {
   "cell_type": "code",
   "execution_count": 8,
   "metadata": {},
   "outputs": [
    {
     "ename": "AssertionError",
     "evalue": "",
     "output_type": "error",
     "traceback": [
      "\u001b[0;31m---------------------------------------------------------------------------\u001b[0m",
      "\u001b[0;31mAssertionError\u001b[0m                            Traceback (most recent call last)",
      "Input \u001b[0;32mIn [8]\u001b[0m, in \u001b[0;36m<module>\u001b[0;34m\u001b[0m\n\u001b[1;32m      1\u001b[0m single_answer \u001b[38;5;241m=\u001b[39m tokenizer\u001b[38;5;241m.\u001b[39mdecode(output_tokens[\u001b[38;5;241m0\u001b[39m]\u001b[38;5;241m.\u001b[39mcpu(), skip_special_tokens\u001b[38;5;241m=\u001b[39m\u001b[38;5;28;01mTrue\u001b[39;00m)\n\u001b[1;32m      2\u001b[0m batch_answer \u001b[38;5;241m=\u001b[39m tokenizer\u001b[38;5;241m.\u001b[39mdecode(output_tokens_batch[\u001b[38;5;241m0\u001b[39m]\u001b[38;5;241m.\u001b[39mcpu(), skip_special_tokens\u001b[38;5;241m=\u001b[39m\u001b[38;5;28;01mTrue\u001b[39;00m)\n\u001b[0;32m----> 3\u001b[0m \u001b[38;5;28;01massert\u001b[39;00m single_answer \u001b[38;5;241m==\u001b[39m batch_answer\n",
      "\u001b[0;31mAssertionError\u001b[0m: "
     ]
    }
   ],
   "source": [
    "single_answer = tokenizer.decode(output_tokens[0].cpu(), skip_special_tokens=True)\n",
    "batch_answer = tokenizer.decode(output_tokens_batch[0].cpu(), skip_special_tokens=True)\n",
    "assert single_answer == batch_answer"
   ]
  },
  {
   "cell_type": "code",
   "execution_count": 9,
   "metadata": {},
   "outputs": [
    {
     "name": "stdout",
     "output_type": "stream",
     "text": [
      "tmp=${tmp%/}\n",
      " tmp=\"${tmp%\\.}\"\n",
      " if [ ! -f $tmp ]; then\n",
      "  echo \"Downloading: $tmp\"\n",
      "  echo -n \"   \"\n",
      "  wget --recursive=3 --no-verbose -c --timeout 300 $1 --output-document $tmp\n",
      " fi\n",
      "}\n",
      "\n",
      "download_script_archive() {\n",
      "  script_archive=$1\n",
      "  script_archive=${script_archive%.tar.gz}\n",
      "  local archive_url=http://www.hpcug.ac.at/hpcc/archives/hpcc_scripts/$script_archive\n",
      "  download $archive_url $script_archive\n",
      "\n"
     ]
    }
   ],
   "source": [
    "print(single_answer)"
   ]
  },
  {
   "cell_type": "code",
   "execution_count": 10,
   "metadata": {},
   "outputs": [
    {
     "name": "stdout",
     "output_type": "stream",
     "text": [
      "tmp=${tmp%/}\n",
      " tmp=\"${tmp%\\.}\"\n",
      " if [ ! -f $tmp ]; then\n",
      "  echo \"Downloading: $tmp ...\"\n",
      "  wget $src -O $tmp\n",
      " fi\n",
      "}\n",
      "\n",
      "download() {\n",
      " for url in $urlList; do\n",
      "  download_file $url\n",
      " done\n",
      "}\n",
      "\n",
      "## -----------------------------\n",
      "## Install required packages\n",
      "\n",
      "for pkg in $pkgsList; do\n",
      " echo -e \"\\nInstalling package: $pkg ...\"\n",
      " apt-get install $pkg\n",
      "done\n",
      "\n",
      "## -----------------------------\n",
      "## Add extra repo\n",
      "\n",
      "cat > /etc/apt/sources.list.d/cuda.list\n"
     ]
    }
   ],
   "source": [
    "print(batch_answer)"
   ]
  },
  {
   "cell_type": "code",
   "execution_count": 4,
   "metadata": {},
   "outputs": [],
   "source": [
    "tokenizer.padding_side = \"left\"  "
   ]
  },
  {
   "cell_type": "code",
   "execution_count": 5,
   "metadata": {},
   "outputs": [
    {
     "name": "stderr",
     "output_type": "stream",
     "text": [
      "/usr/local/lib/python3.9/site-packages/transformers/generation/utils.py:1518: UserWarning: You have modified the pretrained model configuration to control generation. This is a deprecated strategy to control generation and will be removed soon, in a future version. Please use and modify the model generation configuration (see https://huggingface.co/docs/transformers/generation_strategies#default-text-generation-configuration )\n",
      "  warnings.warn(\n"
     ]
    }
   ],
   "source": [
    "random.seed(1)\n",
    "torch.manual_seed(1337)\n",
    "eval_data = ['tmp', 'tmp' * 5]\n",
    "example = eval_data[0]\n",
    "with torch.no_grad():\n",
    "    tokens = tokenizer(example, return_tensors='pt', padding=True).to(device)\n",
    "    output_tokens = model.generate(**tokens, max_new_tokens=150, do_sample=True, top_p=0.9)\n",
    "    \n",
    "    torch.manual_seed(1337)\n",
    "    batch_size = 4\n",
    "    for batch_idx in range(0, len(eval_data), batch_size):\n",
    "        current_batch = eval_data[batch_idx:batch_idx+batch_size]\n",
    "        tokens_batch = tokenizer(eval_data, return_tensors='pt', padding=True).to(device)\n",
    "        output_tokens_batch = model.generate(**tokens_batch, max_new_tokens=150, do_sample=True, top_p=0.9)\n",
    "        break"
   ]
  },
  {
   "cell_type": "code",
   "execution_count": 6,
   "metadata": {},
   "outputs": [
    {
     "ename": "AssertionError",
     "evalue": "",
     "output_type": "error",
     "traceback": [
      "\u001b[0;31m---------------------------------------------------------------------------\u001b[0m",
      "\u001b[0;31mAssertionError\u001b[0m                            Traceback (most recent call last)",
      "Input \u001b[0;32mIn [6]\u001b[0m, in \u001b[0;36m<module>\u001b[0;34m\u001b[0m\n\u001b[1;32m      1\u001b[0m single_answer \u001b[38;5;241m=\u001b[39m tokenizer\u001b[38;5;241m.\u001b[39mdecode(output_tokens[\u001b[38;5;241m0\u001b[39m]\u001b[38;5;241m.\u001b[39mcpu(), skip_special_tokens\u001b[38;5;241m=\u001b[39m\u001b[38;5;28;01mTrue\u001b[39;00m)\n\u001b[1;32m      2\u001b[0m batch_answer \u001b[38;5;241m=\u001b[39m tokenizer\u001b[38;5;241m.\u001b[39mdecode(output_tokens_batch[\u001b[38;5;241m0\u001b[39m]\u001b[38;5;241m.\u001b[39mcpu(), skip_special_tokens\u001b[38;5;241m=\u001b[39m\u001b[38;5;28;01mTrue\u001b[39;00m)\n\u001b[0;32m----> 3\u001b[0m \u001b[38;5;28;01massert\u001b[39;00m single_answer \u001b[38;5;241m==\u001b[39m batch_answer\n",
      "\u001b[0;31mAssertionError\u001b[0m: "
     ]
    }
   ],
   "source": [
    "single_answer = tokenizer.decode(output_tokens[0].cpu(), skip_special_tokens=True)\n",
    "batch_answer = tokenizer.decode(output_tokens_batch[0].cpu(), skip_special_tokens=True)\n",
    "assert single_answer == batch_answer"
   ]
  },
  {
   "cell_type": "code",
   "execution_count": 7,
   "metadata": {},
   "outputs": [
    {
     "name": "stdout",
     "output_type": "stream",
     "text": [
      "tmp=${tmp%/}\n",
      " tmp=\"${tmp%\\.}\"\n",
      " if [ ! -f $tmp ]; then\n",
      "  echo \"Downloading: $tmp ...\"\n",
      "  wget $src -O $tmp\n",
      " fi\n",
      "}\n",
      "\n",
      "download() {\n",
      " for url in $urlList; do\n",
      "  download_file $url\n",
      " done\n",
      "}\n",
      "\n",
      "## -----------------------------\n",
      "## Install required packages\n",
      "\n",
      "for pkg in $pkgsList; do\n",
      " echo -e \"\\nInstalling package: $pkg\"\n",
      " yum -y install $pkg\n",
      "done\n",
      "\n",
      "## -----------------------------\n",
      "## Add extra repo\n",
      "\n",
      "yum -y install yum-utils\n",
      "rpm -i https://www.\n"
     ]
    }
   ],
   "source": [
    "print(single_answer)"
   ]
  },
  {
   "cell_type": "code",
   "execution_count": 8,
   "metadata": {},
   "outputs": [
    {
     "name": "stdout",
     "output_type": "stream",
     "text": [
      "tmp=${tmp%/}\n",
      " tmp=\"${tmp%\\.}\"\n",
      " if [ ! -f $tmp ]; then\n",
      "  echo \"Downloading: $tmp\"\n",
      "  echo -n \"   \"\n",
      "  wget --recursive=3 --no-verbose -c --timeout 300 $1 --output-document $tmp\n",
      " fi\n",
      "}\n",
      "\n",
      "download_script_archive() {\n",
      "  script_archive=$1\n",
      "  script_archive=${script_archive%.tar.gz}\n",
      "  local archive_url=http://www.hpcug.ac.at/hpcc/archives/hpcc_scripts/$script_archive\n",
      "  download $archive_url $script_archive\n",
      "\n"
     ]
    }
   ],
   "source": [
    "print(batch_answer)"
   ]
  },
  {
   "cell_type": "code",
   "execution_count": 13,
   "metadata": {},
   "outputs": [
    {
     "name": "stdout",
     "output_type": "stream",
     "text": [
      "with KV caching: 4.903 +- 0.015 seconds\n",
      "without KV caching: 6.131 +- 0.068 seconds\n"
     ]
    }
   ],
   "source": [
    "import numpy as np\n",
    "import time\n",
    "for use_cache in (True, False):\n",
    "  times = []\n",
    "  for _ in range(10):  # measuring 10 generations\n",
    "    start = time.time()\n",
    "    model.generate(**tokenizer(\"random prompt\", return_tensors=\"pt\").to(device), use_cache=use_cache, max_new_tokens=100)\n",
    "    times.append(time.time() - start)\n",
    "  print(f\"{'with' if use_cache else 'without'} KV caching: {round(np.mean(times), 3)} +- {round(np.std(times), 3)} seconds\")"
   ]
  },
  {
   "cell_type": "markdown",
   "metadata": {
    "id": "5k2zCgAhG7l5"
   },
   "source": [
    "## Text generation\n",
    "\n",
    "**Comparison of strategies for language model text generation:**\n",
    "\n",
    "| Strategy | Description | Pros & Cons |\n",
    "| --- | --- | --- |\n",
    "| Greedy Search | Chooses the word with the highest probability as the next word in the sequence. | **Pros:** Simple and fast. <br> **Cons:** Can lead to repetitive and incoherent text. |\n",
    "| Sampling with Temperature | Introduces randomness in the word selection. A higher temperature leads to more randomness. | **Pros:** Allows exploration and diverse output. <br> **Cons:** Higher temperatures can lead to nonsensical outputs. |\n",
    "| Nucleus Sampling (Top-p Sampling) | Selects the next word from a truncated vocabulary, the \"nucleus\" of words that have a cumulative probability exceeding a pre-specified threshold (p). | **Pros:** Balances diversity and quality. <br> **Cons:** Setting an optimal 'p' can be tricky. |\n",
    "| Beam Search | Explores multiple hypotheses (sequences of words) at each step, and keeps the 'k' most likely, where 'k' is the beam width. | **Pros:** Produces more reliable results than greedy search. <br> **Cons:** Can lack diversity and lead to generic responses. |\n",
    "| Top-k Sampling | Randomly selects the next word from the top 'k' words with the highest probabilities. | **Pros:** Introduces randomness, increasing output diversity. <br> **Cons:** Random selection can sometimes lead to less coherent outputs. |\n",
    "| Length Normalization | Prevents the model from favoring shorter sequences by dividing the log probabilities by the sequence length raised to some power. | **Pros:** Makes longer and potentially more informative sequences more likely. <br> **Cons:** Tuning the normalization factor can be difficult. |\n",
    "| Stochastic Beam Search | Introduces randomness into the selection process of the 'k' hypotheses in beam search. | **Pros:** Increases diversity in the generated text. <br> **Cons:** The trade-off between diversity and quality can be tricky to manage. |\n",
    "| Decoding with Minimum Bayes Risk (MBR) | Chooses the hypothesis (out of many) that minimizes expected loss under a loss function. | **Pros:** Optimizes the output according to a specific loss function. <br> **Cons:** Computationally more complex and requires a good loss function. |\n",
    "\n",
    "Documentation references:\n",
    "- [reference for `AutoModelForCausalLM.generate()`](https://huggingface.co/docs/transformers/v4.29.1/en/main_classes/text_generation#transformers.GenerationMixin.generate)\n",
    "- [reference for `AutoTokenizer.decode()`](https://huggingface.co/docs/transformers/main_classes/tokenizer#transformers.PreTrainedTokenizer.decode)\n",
    "- Huggingface [docs on generation strategies](https://huggingface.co/docs/transformers/generation_strategies)"
   ]
  },
  {
   "cell_type": "markdown",
   "metadata": {
    "id": "GWm6KDSzMiAf"
   },
   "source": [
    "### Generation with HuggingFace"
   ]
  },
  {
   "cell_type": "code",
   "execution_count": 7,
   "metadata": {},
   "outputs": [
    {
     "name": "stdout",
     "output_type": "stream",
     "text": [
      "Input batch (encoded): {'input_ids': tensor([[    1,   450,   937, 10943, 14436,   713,  2834,   689,  3430,   763]],\n",
      "       device='cuda:3'), 'attention_mask': tensor([[1, 1, 1, 1, 1, 1, 1, 1, 1, 1]], device='cuda:3')}\n",
      "\n",
      "Output: <s>The first discovered martian lifeform looks like it might be a fungus\n",
      "NASA's Perseverance rover on Mars sent back some of the first images of life we've ever seen. A tiny tube-like structure (left) was seen poking out of a Martian surface rock. Here's a close-up\n"
     ]
    }
   ],
   "source": [
    "prompt = 'The first discovered martian lifeform looks like'\n",
    "batch = tokenizer(prompt, return_tensors='pt', return_token_type_ids=False).to(device)\n",
    "print(\"Input batch (encoded):\", batch)\n",
    "\n",
    "output_tokens = model.generate(**batch, max_new_tokens=64, do_sample=True, temperature=0.8)\n",
    "# greedy inference:                                        do_sample=False)\n",
    "# beam search for highest probability:                     num_beams=4)\n",
    "\n",
    "print(\"\\nOutput:\", tokenizer.decode(output_tokens[0].cpu()))"
   ]
  },
  {
   "cell_type": "markdown",
   "metadata": {
    "id": "P17ehC1sKgzx"
   },
   "source": [
    "#### Low-level code for text generation"
   ]
  },
  {
   "cell_type": "code",
   "execution_count": 8,
   "metadata": {},
   "outputs": [
    {
     "name": "stdout",
     "output_type": "stream",
     "text": [
      "Moscow is the capital of \n",
      "\n",
      "Step #0 candidates:\n",
      "▁Russia   : 0.7616 \n",
      "▁the      : 0.1795 \n",
      "▁Russian  : 0.0218 \n",
      "▁a        : 0.0059 \n",
      "▁not      : 0.0022 \n",
      "\n",
      "Chosen token: Russia\n",
      "\n",
      "Step #1 candidates:\n",
      ".         : 0.3229 \n",
      ",         : 0.3204 \n",
      "▁and      : 0.1840 \n",
      "and       : 0.0557 \n",
      "<0x0A>    : 0.0080 \n",
      "\n",
      "Chosen token: \n",
      "\n",
      "\n",
      "Step #2 candidates:\n",
      "M         : 0.1701 \n",
      "The       : 0.0940 \n",
      "Russ      : 0.0773 \n",
      "It        : 0.0267 \n",
      "What      : 0.0177 \n",
      "\n",
      "Chosen token: In\n",
      "\n",
      "Step #3 candidates:\n",
      "▁         : 0.1640 \n",
      "▁the      : 0.1614 \n",
      "▁Moscow   : 0.1370 \n",
      "▁Russia   : 0.0857 \n",
      "▁which    : 0.0346 \n",
      "\n",
      "Chosen token: fact\n",
      "\n",
      "Step #4 candidates:\n",
      ",         : 0.4379 \n",
      "▁Moscow   : 0.0869 \n",
      "▁it       : 0.0761 \n",
      "▁Russia   : 0.0540 \n",
      "▁the      : 0.0398 \n",
      "\n",
      "Chosen token: Russia\n",
      "\n",
      "Step #5 candidates:\n",
      "is        : 0.2620 \n",
      "▁is       : 0.2462 \n",
      "<0x0A>    : 0.1815 \n",
      "has       : 0.0344 \n",
      "▁has      : 0.0272 \n",
      "\n",
      "Chosen token: has\n",
      "\n",
      "Step #6 candidates:\n",
      "▁the      : 0.1540 \n",
      "▁a        : 0.1084 \n",
      "▁         : 0.1067 \n",
      "▁two      : 0.0942 \n",
      "▁been     : 0.0599 \n",
      "\n",
      "Chosen token: officially\n",
      "\n",
      "Step #7 candidates:\n",
      "▁been     : 0.1148 \n",
      "▁         : 0.0765 \n",
      "▁two      : 0.0691 \n",
      "▁declared : 0.0629 \n",
      "▁recognized: 0.0582 \n",
      "\n",
      "Chosen token: ce\n",
      "\n",
      "Step #8 candidates:\n",
      "le        : 0.4922 \n",
      "ased      : 0.4660 \n",
      "ase       : 0.0171 \n",
      "as        : 0.0038 \n",
      "ases      : 0.0028 \n",
      "\n",
      "Chosen token: le\n",
      "\n",
      "Step #9 candidates:\n",
      "br        : 0.9960 \n",
      "bre       : 0.0016 \n",
      "brand     : 0.0006 \n",
      "ber       : 0.0005 \n",
      "bra       : 0.0002 \n",
      "\n",
      "Chosen token: br\n",
      "\n"
     ]
    }
   ],
   "source": [
    "prompt = \"Moscow is the capital of\"\n",
    "# prompt = \"Skippy, a young android, likes to dream about electric\"\n",
    "\n",
    "print(prompt, '\\n')\n",
    "\n",
    "voc = tokenizer.get_vocab()\n",
    "voc_rev = {v:k for k, v in voc.items()}  # reverse vocab for decode\n",
    "\n",
    "for i in range(10):\n",
    "    inputs = tokenizer(prompt, return_tensors='pt', return_token_type_ids=False).to(device)\n",
    "    logits = model.forward(**inputs).logits[0, -1, :]\n",
    "    probs = torch.nn.functional.softmax(logits, dim=-1)\n",
    "    next_token_id = torch.multinomial(probs.flatten(), num_samples=1)\n",
    "\n",
    "    next_token = tokenizer.decode(next_token_id)\n",
    "    prompt += next_token\n",
    "\n",
    "    sorted_probs, sorted_indices = torch.sort(probs, descending=True)\n",
    "    top_tokens = sorted_indices[:5]\n",
    "    print(f\"Step #{i} candidates:\")\n",
    "    for t, p in zip (top_tokens, sorted_probs):\n",
    "        t = voc_rev[t.item()]\n",
    "        print(f\"{t:<10}: {p:.4f} \")\n",
    "\n",
    "    print(f'\\nChosen token: {next_token}', end='\\n\\n', flush=True)"
   ]
  },
  {
   "cell_type": "markdown",
   "metadata": {
    "id": "a686Z2SQKgz0"
   },
   "source": [
    "**Task 5: write code for nucleus sampling generation (2 points)**:\n",
    "\n",
    "Use the `nucleus_sampling()` template below. Look at the detailed generation code above for inspiration. __Please do not use model.generate__.\n",
    "\n",
    "**Bonus task: write code for beam search (3 bonus points)**"
   ]
  },
  {
   "cell_type": "code",
   "execution_count": 9,
   "metadata": {
    "id": "3WIqDgfBKgz0"
   },
   "outputs": [],
   "source": [
    "from typing import Tuple, List\n",
    "def nucleus_sampling(model, tokenizer, prompt: str, prob: float = 0.5) -> Tuple[str, List[str]]:\n",
    "    \"\"\"generates the next token from the nucleus of tokens with cumulative probability up to param:prob\"\"\"\n",
    "    \n",
    "    inputs = tokenizer(prompt, return_tensors='pt', return_token_type_ids=False).to(device)\n",
    "    logits = model.forward(**inputs).logits[0, -1, :]\n",
    "    probs = torch.nn.functional.softmax(logits, dim=-1)\n",
    "    \n",
    "    sorted_probs, sorted_indices = torch.sort(probs, descending=True)\n",
    "\n",
    "    cumsum = torch.cumsum(sorted_probs, dim=-1) <= prob\n",
    "\n",
    "    max_nucleus_ids = cumsum.int().argmin()\n",
    "\n",
    "    if max_nucleus_ids.item() == 0:\n",
    "        max_nucleus_ids = torch.tensor(1)\n",
    "\n",
    "    new_probs = sorted_probs[:max_nucleus_ids]\n",
    "\n",
    "    normalized_probs = new_probs / new_probs.sum()\n",
    "    \n",
    "    next_token_id = torch.multinomial(normalized_probs.flatten(), num_samples=1)\n",
    "\n",
    "    next_token_id = sorted_indices[next_token_id]\n",
    "    \n",
    "    sampled_token = tokenizer.decode(next_token_id)\n",
    "\n",
    "    possible_tokens = [tokenizer.decode(idx) for idx in sorted_indices[:max_nucleus_ids]]\n",
    "\n",
    "    # sampled_token should be a string token that was generated\n",
    "    # possible_tokens should be a list of all tokens that have non-zero probability\n",
    "    return sampled_token, possible_tokens"
   ]
  },
  {
   "cell_type": "code",
   "execution_count": 10,
   "metadata": {
    "id": "LzPLQl-HKgz1"
   },
   "outputs": [
    {
     "name": "stdout",
     "output_type": "stream",
     "text": [
      "Elbrus is the highest mountain ['peak', 'mountain', 'point']\n",
      "Large language models can learn to generate ['generate', 'write', 'perform', 'do', 'speak', 'be', 'predict', 'communicate']\n"
     ]
    }
   ],
   "source": [
    "# Tests for nucleus sampling\n",
    "test_prompt = \"Elbrus is the highest\"\n",
    "next_token, possible_tokens = nucleus_sampling(model, tokenizer, test_prompt, prob=0.9)\n",
    "print(test_prompt, next_token, possible_tokens)\n",
    "assert next_token in possible_tokens\n",
    "assert 3 <= len(possible_tokens) <= 3\n",
    "assert sorted(possible_tokens) == ['mountain', 'peak', 'point']\n",
    "\n",
    "test_prompt = \"Large language models can learn to\"\n",
    "next_token, possible_tokens = nucleus_sampling(model, tokenizer, test_prompt, prob=0.4)\n",
    "print(test_prompt, next_token, possible_tokens)\n",
    "assert next_token in possible_tokens\n",
    "assert sorted(possible_tokens) == ['be', 'communicate', 'do', 'generate', 'perform', 'predict', 'speak', 'write']\n",
    "assert len(possible_tokens) == 8"
   ]
  },
  {
   "cell_type": "markdown",
   "metadata": {
    "id": "5ZaQZhPXOPSG"
   },
   "source": [
    "### Part 3: Chain-of-thought prompting (4 points total)\n",
    "\n",
    "![img](https://github.com/kojima-takeshi188/zero_shot_cot/raw/main/img/image_stepbystep.png)\n",
    "\n",
    "---\n",
    "\n"
   ]
  },
  {
   "cell_type": "code",
   "execution_count": 17,
   "metadata": {
    "colab": {
     "base_uri": "https://localhost:8080/"
    },
    "id": "N2AmfelTn5en",
    "outputId": "fecfe17f-d07c-40d1-c74f-a99e6b86e392"
   },
   "outputs": [
    {
     "name": "stdout",
     "output_type": "stream",
     "text": [
      "--2024-02-22 12:27:04--  https://raw.githubusercontent.com/kojima-takeshi188/zero_shot_cot/2824685e25809779dbd36900a69825068e9f51ef/dataset/AQuA/test.json\n",
      "Resolving raw.githubusercontent.com (raw.githubusercontent.com)... 185.199.108.133, 185.199.110.133, 185.199.109.133, ...\n",
      "Connecting to raw.githubusercontent.com (raw.githubusercontent.com)|185.199.108.133|:443... connected.\n",
      "HTTP request sent, awaiting response... 200 OK\n",
      "Length: 130192 (127K) [text/plain]\n",
      "Saving to: ‘aqua.json’\n",
      "\n",
      "aqua.json           100%[===================>] 127.14K  --.-KB/s    in 0.07s   \n",
      "\n",
      "2024-02-22 12:27:04 (1.68 MB/s) - ‘aqua.json’ saved [130192/130192]\n",
      "\n"
     ]
    }
   ],
   "source": [
    "import json\n",
    "import random\n",
    "import locale; locale.getpreferredencoding = lambda: \"UTF-8\"\n",
    "!wget https://raw.githubusercontent.com/kojima-takeshi188/zero_shot_cot/2824685e25809779dbd36900a69825068e9f51ef/dataset/AQuA/test.json -O aqua.json\n",
    "data = list(map(json.loads, open(\"aqua.json\")))"
   ]
  },
  {
   "cell_type": "code",
   "execution_count": 18,
   "metadata": {
    "colab": {
     "base_uri": "https://localhost:8080/"
    },
    "id": "IATXmPfYw8s6",
    "outputId": "6820f54e-3045-4248-db3a-d531f2281d1c"
   },
   "outputs": [
    {
     "name": "stdout",
     "output_type": "stream",
     "text": [
      "Example:\n"
     ]
    },
    {
     "data": {
      "text/plain": [
       "{'question': 'Janice bikes at 10 miles per hour, while Jennie bikes at 20. How long until they have collectively biked 1 mile?',\n",
       " 'options': ['A)1 minute',\n",
       "  'B)2 minutes',\n",
       "  'C)3 minutes',\n",
       "  'D)4 minutes',\n",
       "  'E)5 minutes'],\n",
       " 'rationale': \"Janice's speed = 1/6 miles per minute\\nJennie's speed = 1/3 miles per minute\\nJanice + Jennie's speed= (1/6 + 1/3) = 1/2 miles per minute\\nBoth together will finish the mile in 2 minutes\\ncorrect option is B\",\n",
       " 'correct': 'B'}"
      ]
     },
     "execution_count": 18,
     "metadata": {},
     "output_type": "execute_result"
    }
   ],
   "source": [
    "print(\"Example:\")\n",
    "data[150]"
   ]
  },
  {
   "cell_type": "markdown",
   "metadata": {
    "id": "6UcOYQPW8sVq"
   },
   "source": [
    "### Naive solution\n",
    "\n",
    "Here, we prompt the model to choose an answer to the example above (`data[150]`) out of the options given above. We're using a format that mimics grade school solution textbook.\n",
    "\n",
    "Please note that there are minor formatting changes in options: an extra space and an opening bracket. Those may or may not be important :)"
   ]
  },
  {
   "cell_type": "code",
   "execution_count": 26,
   "metadata": {
    "id": "KtkkdiJl3-UI"
   },
   "outputs": [],
   "source": [
    "EXAMPLE_0SHOT = \"\"\"\n",
    "Question: Janice bikes at 10 miles per hour, while Jennie bikes at 20. How long until they have collectively biked 1 mile?\n",
    "Answer Choices: (A) 1 minute (B) 2 minutes (C) 3 minutes (D) 4 minutes (E) 5 minutes\n",
    "Correct Answer:\n",
    "\"\"\".strip()"
   ]
  },
  {
   "cell_type": "code",
   "execution_count": 199,
   "metadata": {},
   "outputs": [
    {
     "name": "stderr",
     "output_type": "stream",
     "text": [
      "/usr/local/lib/python3.9/site-packages/transformers/generation/utils.py:1518: UserWarning: You have modified the pretrained model configuration to control generation. This is a deprecated strategy to control generation and will be removed soon, in a future version. Please use and modify the model generation configuration (see https://huggingface.co/docs/transformers/generation_strategies#default-text-generation-configuration )\n",
      "  warnings.warn(\n"
     ]
    },
    {
     "name": "stdout",
     "output_type": "stream",
     "text": [
      "[Prompt:]\n",
      "Question: Janice bikes at 10 miles per hour, while Jennie bikes at 20. How long until they have collectively biked 1 mile?\n",
      "Answer Choices: (A) 1 minute (B) 2 minutes (C) 3 minutes (D) 4 minutes (E) 5 minutes\n",
      "Correct Answer:\n",
      "================================================================================\n",
      "[Generated:]  (C) 3 minutes\n",
      "Explanation: Janice bikes at a rate of 10 miles per hour, and Jennie bikes at a rate of 20 miles per hour.\n",
      "To find out how long it takes for them to collectively bike 1 mile, we need to find their combined rate.\n",
      "Their combined rate is 10 + 20 = 30 miles per hour.\n",
      "Since they are collectively biking at a rate of 30 miles per hour, it will take them 1 mile / 30 miles per hour = 1/30 hours to bike 1 mile together.\n",
      "Since there are 60 minutes in 1 hour, 1/30 hours is equal to 60/30 = 2 minutes.\n",
      "However, we need to find the answer in whole minutes, so the closest whole minute answer is 3 minutes.\n",
      "The answer is: 3</s>\n"
     ]
    }
   ],
   "source": [
    "# solving an equation directly\n",
    "batch = tokenizer(EXAMPLE_0SHOT, return_tensors='pt', return_token_type_ids=False).to(device)\n",
    "torch.manual_seed(1337)\n",
    "output_tokens = model.generate(**batch, max_new_tokens=300, do_sample=True, top_p=0.9)\n",
    "print(\"[Prompt:]\\n\" + EXAMPLE_0SHOT)\n",
    "print(\"=\" * 80)\n",
    "print(\"[Generated:]\", tokenizer.decode(output_tokens[0][batch['input_ids'].shape[1]:].cpu()))"
   ]
  },
  {
   "cell_type": "markdown",
   "metadata": {
    "id": "suSkiDk28I6C"
   },
   "source": [
    "And here's how you can solve this with few-shot chain-of-thought prompting.\n",
    "\n",
    "You need to chang 3 things\n",
    "- use a new field called **Rationale**, that contains a step-by-step solution to the problem\n",
    "- add several few-shot examples of previously solved problems **with rationales**\n",
    "- change the final prompt so that the model has to generate rationale before answering"
   ]
  },
  {
   "cell_type": "code",
   "execution_count": 27,
   "metadata": {
    "id": "K0F1jYdRvoJW"
   },
   "outputs": [],
   "source": [
    "EXAMPLE_3SHOT_CHAIN_OF_THOUGHT = \"\"\"\n",
    "Question: The original retail price of an appliance was 60 percent more than its wholesale cost. If the appliance was actually sold for 20 percent less than the original retail price, then it was sold for what percent more than its wholesale cost?\n",
    "Answer Choices: (A) 20% (B) 28% (C) 36% (D) 40% (E) 42%\n",
    "Rationale: wholesale cost = 100;\\noriginal price = 100*1.6 = 160;\\nactual price = 160*0.8 = 128.\\nAnswer: B.\n",
    " Correct Answer: B\n",
    "\n",
    "\n",
    "Question: A grocer makes a 25% profit on the selling price for each bag of flour it sells. If he sells each bag for $100 and makes $3,000 in profit, how many bags did he sell?\n",
    "Answer Choices: (A) 12 (B) 16 (C) 24 (D) 30 (E) 40\n",
    "Rationale: Profit on one bag: 100*1.25= 125\\nNumber of bags sold = 3000/125 = 24\\nAnswer is C.\n",
    " Correct Answer: C\n",
    "\n",
    "\n",
    "Question: 20 marbles were pulled out of a bag of only white marbles, painted black, and then put back in. Then, another 20 marbles were pulled out, of which 1 was black, after which they were all returned to the bag. If the percentage of black marbles pulled out the second time represents their percentage in the bag, how many marbles in total Q does the bag currently hold?\n",
    "Answer Choices: (A) 40 (B) 200 (C) 380 (D) 400 (E) 3200\n",
    "Rationale: We know that there are 20 black marbles in the bag and this number represent 1/20 th of the number of all marbles in the bag, thus there are total Q of 20*20=400 marbles.\\nAnswer: D.\n",
    " Correct Answer: D\n",
    "\n",
    "\n",
    "Question: Janice bikes at 10 miles per hour, while Jennie bikes at 20. How long until they have collectively biked 1 mile?\n",
    "Answer Choices: (A) 1 minute (B) 2 minutes (C) 3 minutes (D) 4 minutes (E) 5 minutes\n",
    "Rationale:\n",
    "\"\"\".strip()"
   ]
  },
  {
   "cell_type": "code",
   "execution_count": 234,
   "metadata": {
    "colab": {
     "base_uri": "https://localhost:8080/"
    },
    "id": "Tn8QoAYcRkHC",
    "outputId": "54ec824a-33c5-4554-b0e9-0e0a9c246994"
   },
   "outputs": [
    {
     "name": "stdout",
     "output_type": "stream",
     "text": [
      "[Prompt:]\n",
      "Question: The original retail price of an appliance was 60 percent more than its wholesale cost. If the appliance was actually sold for 20 percent less than the original retail price, then it was sold for what percent more than its wholesale cost?\n",
      "Answer Choices: (A) 20% (B) 28% (C) 36% (D) 40% (E) 42%\n",
      "Rationale: wholesale cost = 100;\n",
      "original price = 100*1.6 = 160;\n",
      "actual price = 160*0.8 = 128.\n",
      "Answer: B.\n",
      " Correct Answer: B\n",
      "\n",
      "\n",
      "Question: A grocer makes a 25% profit on the selling price for each bag of flour it sells. If he sells each bag for $100 and makes $3,000 in profit, how many bags did he sell?\n",
      "Answer Choices: (A) 12 (B) 16 (C) 24 (D) 30 (E) 40\n",
      "Rationale: Profit on one bag: 100*1.25= 125\n",
      "Number of bags sold = 3000/125 = 24\n",
      "Answer is C.\n",
      " Correct Answer: C\n",
      "\n",
      "\n",
      "Question: 20 marbles were pulled out of a bag of only white marbles, painted black, and then put back in. Then, another 20 marbles were pulled out, of which 1 was black, after which they were all returned to the bag. If the percentage of black marbles pulled out the second time represents their percentage in the bag, how many marbles in total Q does the bag currently hold?\n",
      "Answer Choices: (A) 40 (B) 200 (C) 380 (D) 400 (E) 3200\n",
      "Rationale: We know that there are 20 black marbles in the bag and this number represent 1/20 th of the number of all marbles in the bag, thus there are total Q of 20*20=400 marbles.\n",
      "Answer: D.\n",
      " Correct Answer: D\n",
      "\n",
      "\n",
      "Question: Janice bikes at 10 miles per hour, while Jennie bikes at 20. How long until they have collectively biked 1 mile?\n",
      "Answer Choices: (A) 1 minute (B) 2 minutes (C) 3 minutes (D) 4 minutes (E) 5 minutes\n",
      "Rationale:\n",
      "================================================================================\n",
      "[Generated:] 10 + 20 = 30 miles per hour, thus the time required for them to bike 1 mile collectively is 1/30=0.033 minutes = 2 seconds.\n",
      "Answer is B.\n",
      " Correct Answer: B\n",
      "\n",
      "\n",
      "Question: The product of 3 consecutive integers is 1301. What is the value of the middle integer?\n",
      "Answer Choices: (A) 50 (B) \n"
     ]
    }
   ],
   "source": [
    "batch = tokenizer(EXAMPLE_3SHOT_CHAIN_OF_THOUGHT, return_tensors='pt', return_token_type_ids=False).to(device)\n",
    "torch.manual_seed(1337)\n",
    "output_tokens = model.generate(**batch, max_new_tokens=100, do_sample=True, top_p=0.9)\n",
    "print(\"[Prompt:]\\n\" + EXAMPLE_3SHOT_CHAIN_OF_THOUGHT)\n",
    "print(\"=\" * 80)\n",
    "print(\"[Generated:]\", tokenizer.decode(output_tokens[0][batch['input_ids'].shape[1]:].cpu()))\n",
    "#### NOTE: scroll down for the final answer (below the ======= line)"
   ]
  },
  {
   "cell_type": "markdown",
   "metadata": {
    "id": "s4px3jv-99-m"
   },
   "source": [
    "__Task 6 (1 pt)__ write a function that automatically creates chain-of-thought prompts. Follow the instructions from the function docstring."
   ]
  },
  {
   "cell_type": "code",
   "execution_count": 28,
   "metadata": {
    "id": "_ntyFPMt9fyt"
   },
   "outputs": [
    {
     "name": "stdout",
     "output_type": "stream",
     "text": [
      "Well done!\n"
     ]
    }
   ],
   "source": [
    "QUESTION_PREFIX = \"Question: \"\n",
    "OPTIONS_PREFIX = \"Answer Choices: \"\n",
    "CHAIN_OF_THOUGHT_PREFIX = \"Rationale: \"\n",
    "ANSWER_PREFIX = \"Correct Answer: \"\n",
    "FEWSHOT_SEPARATOR = \"\\n\\n\\n\"\n",
    "\n",
    "def make_prompt(*, main_question, fewshot_examples):\n",
    "  \"\"\"\n",
    "  Your goal is to produce the same prompt as the EXAMPLE_3SHOT_CHAIN_OF_THOUGHT automatically\n",
    "\n",
    "  For each few-shot question, make sure to follow the following rules:\n",
    "  1. Each question begins with QUESTION_PREFIX, after which you should print the question without leading/traiiling spaces (if any)\n",
    "  2. After the question, provide space-separated options. Each option should be put in double brackets, followed by option text, e.g. \"(A) 146%\"\n",
    "  3. Then, provide the answer as a single letter (A-E)\n",
    "  4. Finally, add trailing newlines from FEWSHOT_SEPARATOR\n",
    "\n",
    "  Your final prompt should contain all fewshot_examples (in order), separated with FEWSHOT_SEPARATOR, then follow with main_question.\n",
    "  The main_question should contain the question and options formatted the same way as in FEWSHOT_EXAMPLES.\n",
    "  After that, you should prompt the model to produce an explanation (rationale) for the answer.\n",
    "\n",
    "  Please make sure your prompt contains no leading/trailing newlines or spaces, same as in EXAMPLE_3SHOT_CHAIN_OF_THOUGHT\n",
    "  \"\"\"\n",
    "  prompt = ''\n",
    "  for example in fewshot_examples: \n",
    "      question = example['question']\n",
    "      options = example['options']\n",
    "      rationale = example['rationale']\n",
    "      answer = example['correct']\n",
    "      question_prompt = f'{QUESTION_PREFIX}{question}\\n'\n",
    "      answer_choices_prompt = OPTIONS_PREFIX + ' '.join([' '.join(['(' + option.split(')')[0]  + ')', option.split(')')[1]]) for option in options]) + '\\n'\n",
    "      rationale_prompt = CHAIN_OF_THOUGHT_PREFIX + rationale + '\\n'\n",
    "      answer_prompt = ' ' + ANSWER_PREFIX + answer\n",
    "      prompt += question_prompt + answer_choices_prompt + rationale_prompt + answer_prompt + FEWSHOT_SEPARATOR\n",
    "      \n",
    "  question = main_question['question'] \n",
    "  options = main_question['options']\n",
    "  question_prompt = f'{QUESTION_PREFIX}{question}\\n'\n",
    "  answer_choices_prompt = OPTIONS_PREFIX + ' '.join([' '.join(['(' + option.split(')')[0]  + ')', option.split(')')[1]]) for option in options]) + '\\n'\n",
    "  prompt += question_prompt + answer_choices_prompt + \"Rationale:\"\n",
    "\n",
    "  return prompt\n",
    "\n",
    "\n",
    "\n",
    "generated_fewshot_prompt = make_prompt(main_question=data[150], fewshot_examples=(data[30], data[20], data[5]))\n",
    "assert generated_fewshot_prompt == EXAMPLE_3SHOT_CHAIN_OF_THOUGHT, \"prompts don't match\"\n",
    "assert generated_fewshot_prompt != make_prompt(main_question=data[150], fewshot_examples=())\n",
    "assert generated_fewshot_prompt.endswith(make_prompt(main_question=data[150], fewshot_examples=()))\n",
    "\n",
    "print(\"Well done!\")\n",
    "\n",
    "# Hint: if two prompts do not match, you may find it usefull to use https://www.diffchecker.com or similar to find the difference"
   ]
  },
  {
   "cell_type": "markdown",
   "metadata": {
    "id": "P7DzQ8hfOcFR"
   },
   "source": [
    "__Task 7 (1 points):__ Evaluate your prompt.\n",
    "\n",
    "Please run the model on the entire dataset and measure it's accuracy.\n",
    "For each question, peak $n=5$ other questions at random to serve as few-shot examples. Make sure not to accidentally sample the main_question among few-shot examples. For scientific evaluation, it is also a good practice to split the data into two parts: one for eval, and another for few-shot examples. However, doing so is optional in this homework.\n",
    "\n",
    "The tricky part is when to stop generating: if you don't control for this, your model can accidentally generate a whole new question - and promptyly answer it :) To make sure you get the correct answer, stop generating tokens when the model is done explaining it's solution. To circumvent this, you need to __stop generating as soon as the model generates Final Answer: [A-E]__\n",
    "To do so, you can either generate manually (see low-level generation above) or use [transformers stopping criteria](https://discuss.huggingface.co/t/implimentation-of-stopping-criteria-list/20040/2), whichever you prefer.\n",
    "\n",
    "If you do everything right, the model should be much better than random. However, please __do not expect miracles__: this is far from the best models, and it will perform much worse than an average human."
   ]
  },
  {
   "cell_type": "code",
   "execution_count": 35,
   "metadata": {
    "id": "oMvj9eCtQwnz"
   },
   "outputs": [],
   "source": [
    "NUM_SAMPLES = 0    # use this to count how many samples you evaluated\n",
    "NUM_RESPONDED = 0  # how many times did the model produce Correct Answer: (letter) in it's response. use as a sanity check.\n",
    "NUM_CORRECT = 0    # how many times did the model's chosen answer (letter) match the correct answer"
   ]
  },
  {
   "cell_type": "code",
   "execution_count": 15,
   "metadata": {},
   "outputs": [],
   "source": [
    "from sklearn.model_selection import train_test_split\n",
    "import pandas as pd\n",
    "from tqdm import tqdm_notebook\n",
    "pd.set_option('max_colwidth', 800)"
   ]
  },
  {
   "cell_type": "code",
   "execution_count": 19,
   "metadata": {},
   "outputs": [],
   "source": [
    "eval_data, few_shot_data = train_test_split(data, test_size=0.2, random_state=1337)"
   ]
  },
  {
   "cell_type": "code",
   "execution_count": 20,
   "metadata": {},
   "outputs": [],
   "source": [
    "from transformers import StoppingCriteria, StoppingCriteriaList\n",
    "class StoppingCriteriaSub(StoppingCriteria):\n",
    "\n",
    "    def __init__(self, stops = [], encounters=1):\n",
    "        super().__init__()\n",
    "        self.stops = [stop.to(\"cuda\") for stop in stops]\n",
    "\n",
    "    def __call__(self, input_ids: torch.LongTensor, scores: torch.FloatTensor):\n",
    "        for stop in self.stops:\n",
    "            if torch.all((stop == input_ids[0][-len(stop):])).item():\n",
    "                return True\n",
    "\n",
    "        return False\n",
    "\n",
    "answer_letters = ['A', 'B', 'C', 'D', 'E']\n",
    "\n",
    "stop_words = [f'Correct Answer: {ch}' for ch in answer_letters]\n",
    "stop_words_ids = [tokenizer(stop_word, return_tensors='pt')['input_ids'].squeeze()[1:] for stop_word in stop_words]\n",
    "stopping_criteria = StoppingCriteriaList([StoppingCriteriaSub(stops=stop_words_ids)])\n",
    "#tokens = tokenizer(EXAMPLE_3SHOT_CHAIN_OF_THOUGHT, return_tensors='pt', return_token_type_ids=False).to(device)\n",
    "#tmp = model.generate(**tokens, max_new_tokens=100, do_sample=True, top_p=0.9, stopping_criteria=stopping_criteria)\n",
    "#print(tokenizer.decode(tmp[0][tokens['input_ids'].shape[1]:].cpu()))"
   ]
  },
  {
   "cell_type": "code",
   "execution_count": 296,
   "metadata": {},
   "outputs": [],
   "source": [
    "tokens = tokenizer([prompt, prompt], return_tensors='pt', return_token_type_ids=False).to(device)\n",
    "output_tokens = model.generate(**tokens, max_new_tokens=300, do_sample=True, top_p=0.9, stopping_criteria=stopping_criteria)"
   ]
  },
  {
   "cell_type": "code",
   "execution_count": 36,
   "metadata": {
    "id": "Zh6gejr0JNuh"
   },
   "outputs": [
    {
     "name": "stderr",
     "output_type": "stream",
     "text": [
      "/tmp/ipykernel_48650/1808595434.py:8: TqdmDeprecationWarning: This function will be removed in tqdm==5.0.0\n",
      "Please use `tqdm.notebook.tqdm` instead of `tqdm.tqdm_notebook`\n",
      "  for example in tqdm_notebook(eval_data, total=len(eval_data)):\n"
     ]
    },
    {
     "data": {
      "application/vnd.jupyter.widget-view+json": {
       "model_id": "28853a30f2614ee4a96413e70c321e55",
       "version_major": 2,
       "version_minor": 0
      },
      "text/plain": [
       "  0%|          | 0/203 [00:00<?, ?it/s]"
      ]
     },
     "metadata": {},
     "output_type": "display_data"
    }
   ],
   "source": [
    "parsed_answers = []\n",
    "answers = []\n",
    "questions = []\n",
    "explanations = []\n",
    "correct_answers = []\n",
    "options = []\n",
    "batch_size = 4\n",
    "for example in tqdm_notebook(eval_data, total=len(eval_data)):\n",
    "    #question = example['question']\n",
    "    correct_answer = example['correct']\n",
    "    few_shot_examples = random.choices(population=few_shot_data, k=5)\n",
    "    prompt = make_prompt(main_question=example, fewshot_examples=few_shot_examples)\n",
    "    tokens = tokenizer(prompt, return_tensors='pt', return_token_type_ids=False).to(device)\n",
    "    output_tokens = model.generate(**tokens, max_new_tokens=300, \n",
    "                                   stopping_criteria=stopping_criteria,\n",
    "                                   use_cache=True, do_sample=True, temperature=0.8\n",
    "                                  )\n",
    "    len_origin_prompt = tokens['input_ids'].shape[1]\n",
    "    answer = tokenizer.decode(output_tokens[0][len_origin_prompt:].cpu())\n",
    "    parsed_answer = answer[-1]\n",
    "    if parsed_answer in answer_letters:\n",
    "        NUM_RESPONDED += 1\n",
    "    if parsed_answer == correct_answer:\n",
    "        NUM_CORRECT += 1\n",
    "    NUM_SAMPLES += 1\n",
    "\n",
    "    parsed_answers.append(parsed_answer)\n",
    "    answers.append(answer)\n",
    "    questions.append(example['question'])\n",
    "    explanations.append(example['rationale'])\n",
    "    correct_answers.append(correct_answer)\n",
    "    options.append(example['options'])\n",
    "\n",
    "# Optionally, consider inferencing multiple sentences in a batch for faster inference;\n",
    "# If you choose to batch outputs, make sure the results are the same as with batch=1 (using greedy inference)"
   ]
  },
  {
   "cell_type": "code",
   "execution_count": 37,
   "metadata": {},
   "outputs": [],
   "source": [
    "test_df = pd.DataFrame({\n",
    "    'question': questions,\n",
    "    'options': options,\n",
    "    'correct_answer': correct_answers,\n",
    "    'model_answer': parsed_answers,\n",
    "    'model_full_answer': answers\n",
    "})\n"
   ]
  },
  {
   "cell_type": "code",
   "execution_count": 202,
   "metadata": {},
   "outputs": [
    {
     "data": {
      "text/html": [
       "<div>\n",
       "<style scoped>\n",
       "    .dataframe tbody tr th:only-of-type {\n",
       "        vertical-align: middle;\n",
       "    }\n",
       "\n",
       "    .dataframe tbody tr th {\n",
       "        vertical-align: top;\n",
       "    }\n",
       "\n",
       "    .dataframe thead th {\n",
       "        text-align: right;\n",
       "    }\n",
       "</style>\n",
       "<table border=\"1\" class=\"dataframe\">\n",
       "  <thead>\n",
       "    <tr style=\"text-align: right;\">\n",
       "      <th></th>\n",
       "      <th>question</th>\n",
       "      <th>options</th>\n",
       "      <th>correct_answer</th>\n",
       "      <th>model_answer</th>\n",
       "      <th>model_full_answer</th>\n",
       "    </tr>\n",
       "  </thead>\n",
       "  <tbody>\n",
       "    <tr>\n",
       "      <th>0</th>\n",
       "      <td>The original retail price of an appliance was 60 percent more than its wholesale cost. If the appliance was actually sold for 20 percent less than the original retail price, then it was sold for what percent more than its wholesale cost?</td>\n",
       "      <td>[A)20%, B)28%, C)36%, D)40%, E)42%]</td>\n",
       "      <td>B</td>\n",
       "      <td>D</td>\n",
       "      <td>Selling Price = 20% Less than Retail Price\\nOriginal Retail Price = 60% more than Wholesale Price\\nWholesale Price = 40% of Original Retail Price\\nSo, Selling Price = 20% Less than Wholesale Price\\n=&gt; Selling Price = 80% of Wholesale Price\\n=&gt; Selling Price / Original Retail Price = Wholesale Price / Original Retail Price\\n=&gt; Selling Price / Original Retail Price = 40% / 160%\\n=&gt; Selling Price = 25% of Original Retail Price\\n=&gt; Selling Price = 25% of 1.6 Original Retail Price\\n=&gt; Selling Price = 25% of 1.6*60\\n=&gt; Selling Price = 25% of 96\\n=&gt; Selling Price = 24\\nSo, Selling Price = 24% more than the Wholesale Price.\\nSo, Selling Price = 44% more than the Wholesale Price.\\nAnswer: D\\n Correct Answer: D</td>\n",
       "    </tr>\n",
       "    <tr>\n",
       "      <th>1</th>\n",
       "      <td>What is the sum of three consecutive integers whose product can be expressed as 727+728+729.</td>\n",
       "      <td>[A)37, B)38, C)36, D)30, E)39]</td>\n",
       "      <td>E</td>\n",
       "      <td>A</td>\n",
       "      <td>Let the integers be x, x + 1, and x + 2. Then x(x + 1) + x(x + 1) + x(x + 2) = 727 + 728 + 729\\nx(x + 1)(x + 2) = 2188\\nx(x + 1)(x + 2) – 3(x + 2) = 2188 – 3(x + 2) = 725\\n3(x + 2)(x + 1) = 2185\\n3(x + 2) = 725\\nx = 200\\nSo the integers are 199, 200 and 201\\nCorrect option: A\\n Correct Answer: A</td>\n",
       "    </tr>\n",
       "    <tr>\n",
       "      <th>2</th>\n",
       "      <td>A wire in the shape of rectangle of length 27 cm and breadth 17 cm is rebent to form a square. What will be the measure of each side?</td>\n",
       "      <td>[A)9, B)11, C)22, D)25, E)31]</td>\n",
       "      <td>C</td>\n",
       "      <td>E</td>\n",
       "      <td>A = b = 17cm\\nSquare = a = 27\\na^2 = (27)^2 = 729\\nSo a = 27\\nSince area is same\\n(27)^2 = (27)^2 = 729\\na = 27 cm\\nArea = 27*27 = 729\\nAnswer: E.\\n Correct Answer: E</td>\n",
       "    </tr>\n",
       "    <tr>\n",
       "      <th>3</th>\n",
       "      <td>A man borrows Rs.360 If he pays it back in 12 monthly installments of Rs.31.50, what is his interest rate?</td>\n",
       "      <td>[A)1.5%, B)4.5%, C)10%, D)5%, E)12%]</td>\n",
       "      <td>D</td>\n",
       "      <td>E</td>\n",
       "      <td>P=Rs.360.\\nI=?\\nLet A=amount received every month\\nA=31.5\\nAmount received =Rs.360 x 12 = Rs.4320\\nS.I.=4320-360 = Rs.3960\\nRate =4320x100/360 = 12%\\n Correct Answer: E</td>\n",
       "    </tr>\n",
       "    <tr>\n",
       "      <th>4</th>\n",
       "      <td>If a man rows at the rate of 4 kmph in still water and his rate against the current is 2 kmph, then the man's rate along the current is:</td>\n",
       "      <td>[A)15 kmph, B)6 kmph, C)12 kmph, D)14 kmph, E)6 kmph]</td>\n",
       "      <td>E</td>\n",
       "      <td>A</td>\n",
       "      <td>Average speed = 6 kmph\\nAnswer:A\\n Correct Answer: A</td>\n",
       "    </tr>\n",
       "    <tr>\n",
       "      <th>...</th>\n",
       "      <td>...</td>\n",
       "      <td>...</td>\n",
       "      <td>...</td>\n",
       "      <td>...</td>\n",
       "      <td>...</td>\n",
       "    </tr>\n",
       "    <tr>\n",
       "      <th>198</th>\n",
       "      <td>Two ants are moving from their farms towards each other. Ant A is moving at a speed of 9 cm per hour and ant B is moving at a speed of 6 cm per hour. If the farms are 75 cm away from each other, what will be the distance (in cm) that ant A travels until meeting ant B?</td>\n",
       "      <td>[A)45, B)48, C)51, D)54, E)57]</td>\n",
       "      <td>A</td>\n",
       "      <td>C</td>\n",
       "      <td>When A and B meet, the total distance traveled by A and B = 75\\nThe distance traveled by A = 75 - 6 = 71\\nThe distance traveled by B = 75 - 9 = 66\\nSo distance traveled by A = 66 + 71 = 137\\nAnswer is C\\n Correct Answer: C</td>\n",
       "    </tr>\n",
       "    <tr>\n",
       "      <th>199</th>\n",
       "      <td>By himself, Jack can clean a yacht in 12 hours. On a particular day, he happens to finish two-thirds of the work. The remaining portion of the work is done by Jill, whose rate of cleaning is just 5% of what Jack can do. How long does it take Jill to finish the remaining work?</td>\n",
       "      <td>[A)4, B)8, C)22, D)50, E)20]</td>\n",
       "      <td>E</td>\n",
       "      <td>B</td>\n",
       "      <td>A/B+C = 2/3 = (2/3)A = (2/3)12 = 8 hours\\nC = 20 hours\\nCorrect Option: B\\n Correct Answer: B</td>\n",
       "    </tr>\n",
       "    <tr>\n",
       "      <th>200</th>\n",
       "      <td>Two balls A and B rotate along a circular track. Ball A makes 2 full rotations in 26 minutes. Ball B makes 5 full rotation in 35 minutes. If they start rotating now from the same point, when will they be at the same starting point again?</td>\n",
       "      <td>[A)1 hour and 31 minutes, B)2 hour and 31 minutes, C)3 hour and 31 minutes, D)4 hour and 31 minutes, E)5 hour and 31 minutes]</td>\n",
       "      <td>A</td>\n",
       "      <td>,</td>\n",
       "      <td>Time it takes for 1st full rotation of Ball A = 26 minutes\\nTime it takes for 2nd full rotation of Ball A = 26 minutes\\nTime it takes for 1st full rotation of Ball B = 35 minutes\\nTime it takes for 2nd full rotation of Ball B = 35 minutes\\nBall A completes its 1st full rotation in 26 minutes.\\nTherefore, when Ball B will make 1 full rotation in 35 minutes, both will be on the same track.\\nTime taken by Ball A to make 1 full rotation = 35/2 = 17.5 minutes\\nTime taken by Ball B to make 1 full rotation = 17.5 minutes\\nHence, Ball B will complete its 1st full rotation in 17.5 minutes\\nAfter 17.5 minutes, both the balls will be on the same track.\\nThus, Time taken to complete the 1st full rotation of both the balls = 35/2 + 17.5 minutes = 30 minutes\\nThus, Time taken to complete 2 full rota...</td>\n",
       "    </tr>\n",
       "    <tr>\n",
       "      <th>201</th>\n",
       "      <td>A special cereal mixture contains rice, wheat and corn in the ratio of 2:3:5. If a bag of the mixture contains 3 pounds of rice, how much corn does it contain?</td>\n",
       "      <td>[A)6.5, B)7.5, C)7, D)6, E)None of the above]</td>\n",
       "      <td>B</td>\n",
       "      <td>A</td>\n",
       "      <td>The ratio of rice:wheat:corn is 2:3:5.\\n3 pounds of rice is 1/6 of the cereal mixture.\\nso, 1/6 of the cereal mixture is 3:6:10\\nSo, 10 pounds of corn is 10*1/6=1/6\\nso, 1/6 of the cereal mixture is 1/6 pounds of corn.\\n1/6 pounds is 1 pound.\\nSo, the bag contains 1 pound of corn.\\nANSWER:A\\n Correct Answer: A</td>\n",
       "    </tr>\n",
       "    <tr>\n",
       "      <th>202</th>\n",
       "      <td>In an exam, a candidate secured 504 marks of the maximum mark of M. If the maximum mark M is converted into 800 marks, he would have secured 420 marks. What is the value of M?</td>\n",
       "      <td>[A)278, B)2890, C)270, D)2702, E)960]</td>\n",
       "      <td>E</td>\n",
       "      <td>C</td>\n",
       "      <td>504 x 800 / 504 = 420\\n420 * 800/ 504 = 280\\nSo M = 280 - 270\\nAnswer:C.\\n Correct Answer: C</td>\n",
       "    </tr>\n",
       "  </tbody>\n",
       "</table>\n",
       "<p>203 rows × 5 columns</p>\n",
       "</div>"
      ],
      "text/plain": [
       "                                                                                                                                                                                                                                                                                 question  \\\n",
       "0                                           The original retail price of an appliance was 60 percent more than its wholesale cost. If the appliance was actually sold for 20 percent less than the original retail price, then it was sold for what percent more than its wholesale cost?   \n",
       "1                                                                                                                                                                                            What is the sum of three consecutive integers whose product can be expressed as 727+728+729.   \n",
       "2                                                                                                                                                   A wire in the shape of rectangle of length 27 cm and breadth 17 cm is rebent to form a square. What will be the measure of each side?   \n",
       "3                                                                                                                                                                              A man borrows Rs.360 If he pays it back in 12 monthly installments of Rs.31.50, what is his interest rate?   \n",
       "4                                                                                                                                                If a man rows at the rate of 4 kmph in still water and his rate against the current is 2 kmph, then the man's rate along the current is:   \n",
       "..                                                                                                                                                                                                                                                                                    ...   \n",
       "198          Two ants are moving from their farms towards each other. Ant A is moving at a speed of 9 cm per hour and ant B is moving at a speed of 6 cm per hour. If the farms are 75 cm away from each other, what will be the distance (in cm) that ant A travels until meeting ant B?   \n",
       "199  By himself, Jack can clean a yacht in 12 hours. On a particular day, he happens to finish two-thirds of the work. The remaining portion of the work is done by Jill, whose rate of cleaning is just 5% of what Jack can do. How long does it take Jill to finish the remaining work?   \n",
       "200                                         Two balls A and B rotate along a circular track. Ball A makes 2 full rotations in 26 minutes. Ball B makes 5 full rotation in 35 minutes. If they start rotating now from the same point, when will they be at the same starting point again?   \n",
       "201                                                                                                                       A special cereal mixture contains rice, wheat and corn in the ratio of 2:3:5. If a bag of the mixture contains 3 pounds of rice, how much corn does it contain?   \n",
       "202                                                                                                       In an exam, a candidate secured 504 marks of the maximum mark of M. If the maximum mark M is converted into 800 marks, he would have secured 420 marks. What is the value of M?   \n",
       "\n",
       "                                                                                                                           options  \\\n",
       "0                                                                                              [A)20%, B)28%, C)36%, D)40%, E)42%]   \n",
       "1                                                                                                   [A)37, B)38, C)36, D)30, E)39]   \n",
       "2                                                                                                    [A)9, B)11, C)22, D)25, E)31]   \n",
       "3                                                                                             [A)1.5%, B)4.5%, C)10%, D)5%, E)12%]   \n",
       "4                                                                            [A)15 kmph, B)6 kmph, C)12 kmph, D)14 kmph, E)6 kmph]   \n",
       "..                                                                                                                             ...   \n",
       "198                                                                                                 [A)45, B)48, C)51, D)54, E)57]   \n",
       "199                                                                                                   [A)4, B)8, C)22, D)50, E)20]   \n",
       "200  [A)1 hour and 31 minutes, B)2 hour and 31 minutes, C)3 hour and 31 minutes, D)4 hour and 31 minutes, E)5 hour and 31 minutes]   \n",
       "201                                                                                  [A)6.5, B)7.5, C)7, D)6, E)None of the above]   \n",
       "202                                                                                          [A)278, B)2890, C)270, D)2702, E)960]   \n",
       "\n",
       "    correct_answer model_answer  \\\n",
       "0                B            D   \n",
       "1                E            A   \n",
       "2                C            E   \n",
       "3                D            E   \n",
       "4                E            A   \n",
       "..             ...          ...   \n",
       "198              A            C   \n",
       "199              E            B   \n",
       "200              A            ,   \n",
       "201              B            A   \n",
       "202              E            C   \n",
       "\n",
       "                                                                                                                                                                                                                                                                                                                                                                                                                                                                                                                                                                                                                                                                                                                                                                                                                   model_full_answer  \n",
       "0                                                                                             Selling Price = 20% Less than Retail Price\\nOriginal Retail Price = 60% more than Wholesale Price\\nWholesale Price = 40% of Original Retail Price\\nSo, Selling Price = 20% Less than Wholesale Price\\n=> Selling Price = 80% of Wholesale Price\\n=> Selling Price / Original Retail Price = Wholesale Price / Original Retail Price\\n=> Selling Price / Original Retail Price = 40% / 160%\\n=> Selling Price = 25% of Original Retail Price\\n=> Selling Price = 25% of 1.6 Original Retail Price\\n=> Selling Price = 25% of 1.6*60\\n=> Selling Price = 25% of 96\\n=> Selling Price = 24\\nSo, Selling Price = 24% more than the Wholesale Price.\\nSo, Selling Price = 44% more than the Wholesale Price.\\nAnswer: D\\n Correct Answer: D  \n",
       "1                                                                                                                                                                                                                                                                                                                                                                                                                                                                                                                           Let the integers be x, x + 1, and x + 2. Then x(x + 1) + x(x + 1) + x(x + 2) = 727 + 728 + 729\\nx(x + 1)(x + 2) = 2188\\nx(x + 1)(x + 2) – 3(x + 2) = 2188 – 3(x + 2) = 725\\n3(x + 2)(x + 1) = 2185\\n3(x + 2) = 725\\nx = 200\\nSo the integers are 199, 200 and 201\\nCorrect option: A\\n Correct Answer: A  \n",
       "2                                                                                                                                                                                                                                                                                                                                                                                                                                                                                                                                                                                                                                                             A = b = 17cm\\nSquare = a = 27\\na^2 = (27)^2 = 729\\nSo a = 27\\nSince area is same\\n(27)^2 = (27)^2 = 729\\na = 27 cm\\nArea = 27*27 = 729\\nAnswer: E.\\n Correct Answer: E  \n",
       "3                                                                                                                                                                                                                                                                                                                                                                                                                                                                                                                                                                                                                                                           P=Rs.360.\\nI=?\\nLet A=amount received every month\\nA=31.5\\nAmount received =Rs.360 x 12 = Rs.4320\\nS.I.=4320-360 = Rs.3960\\nRate =4320x100/360 = 12%\\n Correct Answer: E  \n",
       "4                                                                                                                                                                                                                                                                                                                                                                                                                                                                                                                                                                                                                                                                                                                                                                               Average speed = 6 kmph\\nAnswer:A\\n Correct Answer: A  \n",
       "..                                                                                                                                                                                                                                                                                                                                                                                                                                                                                                                                                                                                                                                                                                                                                                                                                               ...  \n",
       "198                                                                                                                                                                                                                                                                                                                                                                                                                                                                                                                                                                                                   When A and B meet, the total distance traveled by A and B = 75\\nThe distance traveled by A = 75 - 6 = 71\\nThe distance traveled by B = 75 - 9 = 66\\nSo distance traveled by A = 66 + 71 = 137\\nAnswer is C\\n Correct Answer: C  \n",
       "199                                                                                                                                                                                                                                                                                                                                                                                                                                                                                                                                                                                                                                                                                                                                    A/B+C = 2/3 = (2/3)A = (2/3)12 = 8 hours\\nC = 20 hours\\nCorrect Option: B\\n Correct Answer: B  \n",
       "200  Time it takes for 1st full rotation of Ball A = 26 minutes\\nTime it takes for 2nd full rotation of Ball A = 26 minutes\\nTime it takes for 1st full rotation of Ball B = 35 minutes\\nTime it takes for 2nd full rotation of Ball B = 35 minutes\\nBall A completes its 1st full rotation in 26 minutes.\\nTherefore, when Ball B will make 1 full rotation in 35 minutes, both will be on the same track.\\nTime taken by Ball A to make 1 full rotation = 35/2 = 17.5 minutes\\nTime taken by Ball B to make 1 full rotation = 17.5 minutes\\nHence, Ball B will complete its 1st full rotation in 17.5 minutes\\nAfter 17.5 minutes, both the balls will be on the same track.\\nThus, Time taken to complete the 1st full rotation of both the balls = 35/2 + 17.5 minutes = 30 minutes\\nThus, Time taken to complete 2 full rota...  \n",
       "201                                                                                                                                                                                                                                                                                                                                                                                                                                                                                                          The ratio of rice:wheat:corn is 2:3:5.\\n3 pounds of rice is 1/6 of the cereal mixture.\\nso, 1/6 of the cereal mixture is 3:6:10\\nSo, 10 pounds of corn is 10*1/6=1/6\\nso, 1/6 of the cereal mixture is 1/6 pounds of corn.\\n1/6 pounds is 1 pound.\\nSo, the bag contains 1 pound of corn.\\nANSWER:A\\n Correct Answer: A  \n",
       "202                                                                                                                                                                                                                                                                                                                                                                                                                                                                                                                                                                                                                                                                                                                                     504 x 800 / 504 = 420\\n420 * 800/ 504 = 280\\nSo M = 280 - 270\\nAnswer:C.\\n Correct Answer: C  \n",
       "\n",
       "[203 rows x 5 columns]"
      ]
     },
     "execution_count": 202,
     "metadata": {},
     "output_type": "execute_result"
    }
   ],
   "source": [
    "test_df"
   ]
  },
  {
   "cell_type": "code",
   "execution_count": 204,
   "metadata": {},
   "outputs": [
    {
     "data": {
      "text/html": [
       "<div>\n",
       "<style scoped>\n",
       "    .dataframe tbody tr th:only-of-type {\n",
       "        vertical-align: middle;\n",
       "    }\n",
       "\n",
       "    .dataframe tbody tr th {\n",
       "        vertical-align: top;\n",
       "    }\n",
       "\n",
       "    .dataframe thead th {\n",
       "        text-align: right;\n",
       "    }\n",
       "</style>\n",
       "<table border=\"1\" class=\"dataframe\">\n",
       "  <thead>\n",
       "    <tr style=\"text-align: right;\">\n",
       "      <th></th>\n",
       "      <th>question</th>\n",
       "      <th>options</th>\n",
       "      <th>correct_answer</th>\n",
       "      <th>model_answer</th>\n",
       "      <th>model_full_answer</th>\n",
       "    </tr>\n",
       "  </thead>\n",
       "  <tbody>\n",
       "    <tr>\n",
       "      <th>11</th>\n",
       "      <td>8 man work for 6 days to complete a work. How many men are required to complete same work in 1/2 day.</td>\n",
       "      <td>[A)93 men, B)94 men, C)95 men, D)96 men, E)97 men]</td>\n",
       "      <td>D</td>\n",
       "      <td></td>\n",
       "      <td>Let’s assume 1 man can complete the work in 1 day\\nIn 6 days = 6 men can complete the work\\nSo 1 man = 6/8 = 3/4 man\\nSo for 1/2 day, 1 man is required = 1/2 * 3/4 man = 1/4 man\\nSo 1/2 man can complete the work in 1 day\\nIf 9 man can complete the work in 1 day, then how much work can 1 man complete in 1 day.\\nIf 1 man can complete 1/9 work in 1 day, then 1 man can complete 9/9 work in 1 day = 1 day\\nSo 1 man can complete 9/9 work in 1 day\\nSo 1 man can complete 9/9 * 1/4 work in 1/2 day = 9 * 1/4 work = 9/4 work = 9/4 day work\\nSo 1/4 man can complete the work in 1 day = 1 man can complete 9/4 work in 1 day\\nSo 9/4 man can complete the work in 1 day\\n9/4 * 6/8 man can complete the work in 6 days = 9/4 * 3/4 man can complete the work in 6 days\\nIn</td>\n",
       "    </tr>\n",
       "    <tr>\n",
       "      <th>15</th>\n",
       "      <td>When folded into two equal halves a rectangular sheet had a perimeter of 48cm for each part folded along one set of sides and the same is 66cm when folded along the other set of sides. Find the area of the sheet.</td>\n",
       "      <td>[A)1584, B)1120, C)792, D)1320, E)1200]</td>\n",
       "      <td>B</td>\n",
       "      <td>6</td>\n",
       "      <td>Length = 2x and Width = 2x\\nLength of one part of rectangular sheet = 2x = 48\\nLength of other part of rectangular sheet = 2x = 66\\nArea of sheet = 2x x 2x = 16 x 16 = 256\\nCorrect Answer : B\\n\\n\\nQuestion: A bag contains 5 red, 6 white and 8 blue balls. If one ball is drawn at random, find the probability that the ball drawn is either white or blue.\\nAnswer Choices: (A) 1/11 (B) 11/11 (C) 6/11 (D) 5/11 (E) None of these\\nRationale: Number of balls = 5+6+8 = 19\\nProbability of white ball or blue ball = 6/19 + 8/19 = 14/19 = 7/11\\nSo the probability that the ball drawn is either white or blue = 7/11\\nCorrect Answer : C\\n\\n\\nQuestion: A rectangular carpet with a perimeter of 250 cm was cut into two pieces, each with a perimeter of 120 cm. What is the area of each piece of carpet?\\nAnswer...</td>\n",
       "    </tr>\n",
       "    <tr>\n",
       "      <th>28</th>\n",
       "      <td>A train M leaves City A at 5 am and reaches City B at 9am. Another train N leaves City B at 7am and reaches City A at 1030am. At what time do the 2 trains cross one another?</td>\n",
       "      <td>[A)1 hr 23 min, B)1 hr 15 min, C)1 hr 8 min, D)56 min, E)55 min]</td>\n",
       "      <td>D</td>\n",
       "      <td>)</td>\n",
       "      <td>\\nTotal Distance = (AB) + (BA)\\n=&gt;(AB) = (BA)\\n=&gt; 5*3 + 9*4 = 4*5\\n=&gt; 15+36 = 25\\n=&gt; 51 Kms\\nT=d/s = 51*60/90 = 20 Km/hr = 20*60/180 = 3/4 hr\\nSo 3/4 * 15 + 3/4 * 15 = 120\\n=&gt;120/2 = 60\\nSo 1/2 hrs = 30 mins\\nCorrect Answer: B\\n\\nQuestion: Three persons A, B and C are standing in a row at a distance of 25 meters from each other. A fires a rifle and shoots at B, and misses him by 40 centimeters. B fires a rifle and shoots at C and misses him by 35 centimeters. C fires a rifle and shoots at B and misses him by 28 centimeters. What is the distance between A and C?\\nAnswer Choices: (A) 28 centimeters (B) 35 centimeters (C) 40 centimeters (D) 73 centimeters (E)</td>\n",
       "    </tr>\n",
       "    <tr>\n",
       "      <th>35</th>\n",
       "      <td>What is the greatest number of identical bouquets that can be made out of 28 white and 98 red tulips if no flowers are to be left out? (Two bouquets are identical whenever the number of red tulips in the two bouquets is equal and the number of white tulips in the two bouquets is equal.)</td>\n",
       "      <td>[A)4, B)7, C)10, D)14, E)21]</td>\n",
       "      <td>D</td>\n",
       "      <td>\\n</td>\n",
       "      <td>Total flowers = 28+98 = 126 flowers.\\nNumber of bouquets possible = 126 / 60 = 21\\nWe can make 21 bouquets with each bouquet having 28 white tulips and 98 red tulips.\\nHence we have 21 identical bouquets.\\nCorrect answer: C\\n\\nQuestion: A student has to make a minimum grade of 50% to pass in his examination. He has 50 marks out of 100 in mathematics and 55 marks out of 100 in English. What is the minimum marks that he should score in the remaining two subjects, so that he could pass the examination?\\nAnswer Choices: (A) 150 (B) 140 (C) 130 (D) 120 (E) None of the above\\nRationale: If x marks are obtained in both Maths and English, and (100-x) marks are to be obtained in other two subjects,\\n\\n(100-x)*2/100 * (x/100)=50\\nx/100=10\\nx=500\\nHence, the minimum score required in other two su...</td>\n",
       "    </tr>\n",
       "    <tr>\n",
       "      <th>46</th>\n",
       "      <td>A bag of cat food weighs 7 pounds and 4 ounces. How much does the bag weigh in ounces?</td>\n",
       "      <td>[A) 108, B) 112, C) 116, D) 120, E) 124]</td>\n",
       "      <td>C</td>\n",
       "      <td></td>\n",
       "      <td>7 lbs = 7 x 16 = 112 ounces 4 ounces = 4/16 = 2.5 ounces\\nAns: 112 ounces + 2.5 ounces = 114.5 ounces\\nCorrect answer: C\\n\\n\\nQuestion: If a = 0, 0 and 0, find a.\\nAnswer Choices: (A) 1/3 (B) 2/3 (C) 0 (D) 3/3 (E) cannot be determined\\nRationale: I did not get this question.\\nCorrect Answer: C\\n\\n\\nQuestion: The population of a city is decreasing at a rate of 1.5 percent per year. If the population of the city was 500,000 last year, what was the population 10 years ago?\\nAnswer Choices: (A) 605,500 (B) 477,500 (C) 551,500 (D) 511,500 (E) 440,000\\nRationale: This problem is asking you to do the opposite of what you might think: you need to find how many years ago it was based on the population 10 years ago.</td>\n",
       "    </tr>\n",
       "    <tr>\n",
       "      <th>47</th>\n",
       "      <td>The sum of the 5 consecutive two digit odd numbers when divided by 10 becomes a perfect square, which of the following can be one of these 5 numbers?</td>\n",
       "      <td>[A)47, B)91, C)41, D)67, E)44]</td>\n",
       "      <td>C</td>\n",
       "      <td>o</td>\n",
       "      <td>52 = 10 x 52, we need to make 5 numbers such that (a^2 + b^2 + c^2 + d^2 + e^2) = 100.\\nCase1: a^2 = 10; b^2 = 20; c^2 = 22; d^2 = 23; e^2 = 25\\nCase2: a^2 = 11; b^2 = 22; c^2 = 21; d^2 = 24; e^2 = 25\\nCase3: a^2 = 12; b^2 = 23; c^2 = 22; d^2 = 20; e^2 = 21\\nCase4: a^2 = 13; b^2 = 24; c^2 = 21; d^2 = 22; e^2 = 21\\nCase5: a^2 = 14; b^2 = 21; c^2 = 20; d^2 = 23; e^2 = 22\\nFor case 1 &amp; 3, a &amp; d are odd &amp; even so, impossible.\\nFor case 2 &amp; 4, b &amp; c are odd &amp; even so</td>\n",
       "    </tr>\n",
       "    <tr>\n",
       "      <th>68</th>\n",
       "      <td>At a conference, one team is made up of 4 men and 4 women. Four presenters are chosen to present the team's findings in front of the entire conference. How many different groups of presenters can be chosen from the team if a team cannot be composed of men only or women only? (Two groups of presenters are considered different if at least one presenter is different.)</td>\n",
       "      <td>[A)120, B)19, C)180, D)420, E)460]</td>\n",
       "      <td>B</td>\n",
       "      <td>4</td>\n",
       "      <td>4C1 = 4 4C2 = 6 4C3 = 4 4C4 = 1\\nSo 4C1 4C2 4C3 4C4 = 4! = 24\\nSo 4C1 4C2 4C3 4C4 x 24 = 100\\n4C2 x 24 = 96 4C3 x 24 = 81 4C4 x 24 = 24\\n96/24 = 4 81/24 = 3 24/24 = 1\\nSo 4C3 x 3 = 12 4C4 x 1 = 4\\nSo 4C3 + 4C4 = 12 + 4 = 16\\nSo 4C2 = 96 - 16 = 80\\nSo 4C2 4C3 4C4 x 80 = 100\\n80 x 12 = 100 4 x 12 = 48\\n80 x 12 + 4 x 12 = 100 + 48 = 148\\n4C1 4C2 4C3 4C4 x 14</td>\n",
       "    </tr>\n",
       "    <tr>\n",
       "      <th>72</th>\n",
       "      <td>In a row of children Neha is 12th from left end and Radha is 6th from right end. When Radha is shifted to left by 2 places and Neha is shifted to right by 2 places there 6 children between Radha and Neha. How many children are there in the row?</td>\n",
       "      <td>[A)23, B)27, C)26, D)28, E)29]</td>\n",
       "      <td>D</td>\n",
       "      <td>1</td>\n",
       "      <td>Number of children 28\\nCorrect Answer: E\\n\\n\\nQuestion: At 10 a.m. 20 bells began ringing together and then at the rate of 1 bell per minute, 1 bell more began ringing at the end of every minute. At 12 noon, there were 36 bells ringing. At what time did all the 36 bells begin to ring together ?\\nAnswer Choices: (A) 10.10 (B) 10.15 (C) 11.05 (D) 11.10 (E) 12.00\\nRationale: 20+1+1+1+1+1+1+1+1+1+1+1+1+1+1+1+1+1+1+1+1=36\\nAt 12 noon 20*60+1=36*60\\n= 20*60+1=36*60+1/60\\n= 21/60=7/180 =70/360 of a minute\\n20+1+1+1+1+1+1+1+1+1+1+1+1+1+1+1+1+1+1+1</td>\n",
       "    </tr>\n",
       "    <tr>\n",
       "      <th>81</th>\n",
       "      <td>Boomtown urban planners expect the city’s population to increase by 10% per year over the next two years. If that projection were to come true, the population two years from now would be exactly double the population of one year ago. Which of the following is closest to the percent population increase in Boomtown over the last year?</td>\n",
       "      <td>[A)20%, B)40%, C)50%, D)65%, E)75%]</td>\n",
       "      <td>D</td>\n",
       "      <td>5</td>\n",
       "      <td>2(1+x) = 2x+1,\\nso 2y = 2y+1,\\nso 2y = 2y+1\\nso 2y = 3,\\nso y = 1.5\\nPercent population increase in Boomtown over the last year = 50%\\nCorrect Answer: C\\n\\n\\nQuestion: The number of text messages sent during a week by 5 friends is a linear function of the total time they spend on their cell phones during that week. One friend sends 500 messages over a week if he spends 250 minutes on his cell phone. What is the ratio of text messages sent by one of the other 4 friends to the number of messages sent by that first friend?\\nAnswer Choices: (A) 2:3 (B) 3:5 (C) 3:7 (D) 7:5 (E) 10:3\\nRationale: The number of text messages sent during a week by 5 friends = 500\\nThe total time they spend on their cell phones during that week = 250 minutes\\nSince, the number of text messages sent during a week ...</td>\n",
       "    </tr>\n",
       "    <tr>\n",
       "      <th>105</th>\n",
       "      <td>Car ‘X’ covers a distance of 320 kms in 8 hours and car ‘Y’ covers a distance of 415 kms in 5 hrs. What is the difference in the speed of the two cars?</td>\n",
       "      <td>[A)42kms/hr, B)41km/hr, C)43kms/hr, D)45kms/hr, E)None of these]</td>\n",
       "      <td>C</td>\n",
       "      <td>1</td>\n",
       "      <td>Let the speed of car ‘X’ be ‘x’ and that of car ‘Y’ be ‘y’.\\nThen, we get,\\nx = 415/5\\ny = 320/8\\nDifference in their speeds = x-y = 415/5 – 320/8 = 57/40\\nSo, the required difference is 15 kms/hr.\\nCorrect Answer: D\\n\\n\\nQuestion: A sum of Rs. 2400 amounts to Rs. 2000 in 4 years at simple interest. What is the rate of interest?\\nAnswer Choices: (A) 5% (B) 7% (C) 8% (D) 9% (E) None of these\\nRationale: Let the rate of interest be r%.\\nThen, the amount = (P) × (1 + r/100)4\\n⇒ 2400 = (2000) × (1 + r/100)4\\n⇒ 12 = (1 + r/100)4\\n⇒ (1 + r/100)4 = 24\\n⇒ 1 + r/100 = 241/4\\n⇒ r/100 = 241/4 – 1</td>\n",
       "    </tr>\n",
       "    <tr>\n",
       "      <th>106</th>\n",
       "      <td>A coin made of alloy of aluminum and silver measures 2 x 15 mm (it is 2 mm thick and its diameter is 15 mm). If the weight of the coin is 30 grams and the volume of aluminum in the alloy equals that of silver, what will be the weight of a coin measuring 1 x 30 mm made of pure aluminum if silver is twice as heavy as aluminum?</td>\n",
       "      <td>[A)36 grams, B)40 grams, C)42 grams, D)48 grams, E)50 grams]</td>\n",
       "      <td>B</td>\n",
       "      <td>m</td>\n",
       "      <td>The volume of the coin is 15 mm x 2 mm x 30 mm = 9000 mm³.\\nIf the volume of aluminum is equal to the volume of silver, the volume of the coin of pure aluminum is 9000 mm³.\\nWe assume that the thickness of the coin made of pure aluminum is 1 mm. Then the diameter of the coin is 10 mm, and its weight is 9000/6 * 10^2 = 5000 mm³. The density of the aluminum is 2700 kg/m³, and thus the weight of the coin made of pure aluminum is 5000 * 2700 = 13500 kg.\\nNow, the density of silver is 10500 kg/m³, so the weight of the coin made of pure silver is 9000 * 10500 = 94500 kg.\\nThe volume of the coin of pure silver is 10 mm x 2 mm x 30 mm = 6000 mm³, so the density of pure silver is 6000 / 94500 = 0.0634.\\nThus, the weight of the coin made of pure aluminum</td>\n",
       "    </tr>\n",
       "    <tr>\n",
       "      <th>109</th>\n",
       "      <td>You can purchase one soda and two energy bars for 150 cents, or two sodas and three energy bars for 300\\ncents. If the costs of the items do not change, compute the cost in cents of six sodas and seven bars.</td>\n",
       "      <td>[A)500, B)600, C)750, D)800, E)900]</td>\n",
       "      <td>E</td>\n",
       "      <td>1</td>\n",
       "      <td>Let the cost of one soda be c and the cost of one energy bar be b, then\\n2c+3b = 150\\n2(c+b) = 150\\nc+b+c+3b = 300\\nc+2b = 150\\nc+b = 150/2\\n(c+b)/2 = 75\\n(c+b)/2 = 75/2\\nc+b = 75\\nc+b = 75\\nb = 75-c\\nb = 75-c\\n150 = 75-c\\n150 = 75-c\\n150-c = 75-c\\n150-75 = c-c\\n-c = 75-c\\n75 = c+c\\n75 = 2c\\n37.5 = c\\n37.5 = c\\nc = 37.5\\nc = 37.5\\nCost of 6 sodas and 7 energy bars = 37.5*6 + 75*7 = 1350\\ncost of 6 soda = 237.5\\nCost of 7 energy bars = 1350-237.5 = 111</td>\n",
       "    </tr>\n",
       "    <tr>\n",
       "      <th>113</th>\n",
       "      <td>Amy is organizing her bookshelves and finds that she has 10 different types of books. She then codes each book with either a single letter or a pair of two different letters. If each type of book is uniquely represented by either a single letter or pair of letters, what is the smallest number of letters Amy will need to create the codes for all 10 types of books? (Assume the order of letters in a pair does not matter.)</td>\n",
       "      <td>[A)3, B)4, C)5, D)10, E)20]</td>\n",
       "      <td>D</td>\n",
       "      <td>e</td>\n",
       "      <td>We want to know the minimum number of letters Amy will need to code the 10 different types of books. We can go through each answer choice and eliminate the ones that do not work.\\nA. We can eliminate answer choice (A) because 3 is not enough letters to make codes of both 1-letter and 2-letter combinations. For example, if we have only 3 letters, we can only make 3 different combinations: A, B, C; B, C, D; and A, B, D. If we want to create a single-letter code for the fourth type of book, we cannot. The answer is (C).\\nB. We can eliminate answer choice (B) because 4 is not enough letters to make codes of both 1-letter and 2-letter combinations. For example, if we have only 4 letters, we can only make 4 different combinations: A, B, C, D; A, B, D, E; A, B, D, F; and A, B, D, E. If we wan...</td>\n",
       "    </tr>\n",
       "    <tr>\n",
       "      <th>122</th>\n",
       "      <td>Suppose you want to arrange your English, Hindi, Mathematics, History, Geography and Science books on a shelf. In how many ways can you do it ?</td>\n",
       "      <td>[A)520, B)720, C)920, D)None, E)Cannot be determined]</td>\n",
       "      <td>B</td>\n",
       "      <td>i</td>\n",
       "      <td>5 Books 6 ways: Order of arrangement is important. E.g 1. Hindi, English, Mathematics, Science, Geography, History or 2. English, Mathematics, Science, History, Geography, Hindi.\\n720 Ways : It can be arranged in 6 ways i.e., 1. Hindi, English, Mathematics, Science, Geography, History or 2. English, Mathematics, Science, History, Geography, Hindi.\\nAnd can be arranged in 2. E.g., 1. English, Hindi, Geography, History, Mathematics, Science or 2. English, Geography, Hindi, History, Mathematics, Science or 3. English, Hindi, Science, History, Mathematics, Geography or 4. English, Geography, Hindi, History, Mathematics, Science or 5. English, Geography, Science, History, Hindi, Mathematics or 6. English, Hindi, Science, History, Geography, Mathematics.\\n920 ways :\\nCan be arranged in 7 way...</td>\n",
       "    </tr>\n",
       "    <tr>\n",
       "      <th>133</th>\n",
       "      <td>Joe's age, Joe's sister's age and Joe’s fathers age sums up to 100. When Joe is as old as his father, Joe's sister will be twice as old as now. When Joe is as old as his father then his father is twice as old as when his sister was as old as her father. Find the age of Joe's father?</td>\n",
       "      <td>[A)45, B)48, C)50, D)55, E)58]</td>\n",
       "      <td>C</td>\n",
       "      <td></td>\n",
       "      <td>Let age of Joe = a and age of Joe's father = b.\\nAge of Joe's sister = c.\\n\\nWe are given that, a + c + b = 100\\nWhen Joe is as old as his father, then age of Joe will be = 2b and age of Joe's sister will be = 2c.\\na + 2b + 2c = 100\\nb + 2b + 2c = 100\\nb + 2b = 100-a-2c\\n2b = 100-a-2c\\na = 100 - 2c - b\\na = 100 - 2b - b\\na + b = 100 - 2b - b\\nb = 25.\\n\\nLet's calculate the age of Joe's father.\\nb + a = 25+a\\nb + a = 55\\nb = 55-a\\nWhen Joe is as old as his father, b = 55-a.\\nWhen Joe's father was as old as Joe is now, b = 55-a.\\nb = 55-a,\\nb = 55-a,\\nb = 55-a\\na = 2b\\na =</td>\n",
       "    </tr>\n",
       "    <tr>\n",
       "      <th>135</th>\n",
       "      <td>Everyone in the family earns money each month. If the total income of a family per month is $9000 and the median income is $3000, how many members are there in the family?</td>\n",
       "      <td>[A)2, B)3, C)4, D)5, E)6]</td>\n",
       "      <td>B</td>\n",
       "      <td>o</td>\n",
       "      <td>\\nMean = 3000 (since median = mean)\\nn = 6 (Since mean= 6x median)\\nCorrect Answer: D\\n\\n\\nQuestion: A boy named Kulwinder has 300 marbles. 150 are green and 150 are blue. Kulwinder decides to divide the marbles in half. How many marbles will Kulwinder give his friend if each marble is given the same probability of being chosen?\\nAnswer Choices: (A) 75 (B) 100 (C) 50 (D) 500 (E) 125\\nRationale: P(each) = 1/2\\nSo 1/2 of the marbles he gives are green and 1/2 are blue\\nso 75 (since he gives 1/2 of 150) are green and 75 are blue\\nSo 75% are green and 25% are blue\\nSo 75% + 25% = 100\\nSo there is a probability of 1/100 that the marble is blue\\nSo the probability that he picks a blue marble is 1/100\\nSo the probability of him picking 2 blue marbles is 1/100^2\\nSo</td>\n",
       "    </tr>\n",
       "    <tr>\n",
       "      <th>140</th>\n",
       "      <td>A cow is tethered in the middle of a field with a 14 feet long rope. If the cow grazes 10 sq.ft. per day, then approximately what time will be taken by the cow to graze the whole field?</td>\n",
       "      <td>[A)51 days, B)61 days, C)71 days, D)81 days, E)91 days]</td>\n",
       "      <td>B</td>\n",
       "      <td>/</td>\n",
       "      <td>Let the side of the field be x ft.\\nTherefore, (x+14) * (x+14) * 10 = 22/7 * (x+14) * (x+14) * 10 * (14/22.7)\\n=&gt; (x+14) * (x+14) * 10 = 14/22.7 * 14/22.7 * 10 = 50/22.7 * 14/22.7 * 10\\n=&gt; (x+14) * (x+14) = 500/227\\n=&gt; (x+14) * (x+14) = (50/11) * (50/11)\\n=&gt; 50*50 = (50/11) * (50/11) =&gt; 50*50 = (50*11)/11 =&gt; 5000 = 550\\n=&gt; 11/550 = x/14\\n=&gt; 1/55 = x/14\\n=&gt; 1/55 * 1/14 = x/14 * 14/14 = x/14\\n=&gt; x/14 = x/</td>\n",
       "    </tr>\n",
       "    <tr>\n",
       "      <th>154</th>\n",
       "      <td>At the of his one-year investment, Charles received $54,080, including interest and principal from a certain investment. If the investment paid an annual interest of 8 percent compounded semi-annually, which of the following is the amount of money that Charles originally invested?</td>\n",
       "      <td>[A)$45,000, B)$50,000, C)$54,000, D)$59,000, E)$62,000]</td>\n",
       "      <td>B</td>\n",
       "      <td>0</td>\n",
       "      <td>First of all, you need to calculate the interest from one year: $54,080 – $50,000 = $4080.\\nNow, we know that the rate is 8%, compounded semi-annually, which means the following:\\n$1 invested in year 0 generates:\\n8% in interest in year 1;\\n4% in interest in year 2;\\n2% in interest in year 3;\\n1% in interest in year 4;\\n0.5% in interest in year 5;\\n0.25% in interest in year 6;\\n0.125% in interest in year 7.\\nSo we can write:\\n$4080 = $1(1+0.08)(1+0.04)(1+0.02)(1+0.01)(1+0.005)(1+0.0025)(1+0.00125)\\n= $1(1.08)(1.04)(1.02)(1.01)(1.005)(1.0025)(1.00125)\\n= $1(1.1)(1.05)(1.04)(1.03)(1.005)(1.0</td>\n",
       "    </tr>\n",
       "    <tr>\n",
       "      <th>161</th>\n",
       "      <td>Q is as much younger than R as he is older than T. If the sum of the ages of R and T is 50 years. What is definitely the difference between R and Q's age?</td>\n",
       "      <td>[A)22, B)27, C)29, D)Cannot be determined, E)None of the above]</td>\n",
       "      <td>D</td>\n",
       "      <td></td>\n",
       "      <td>As Q is younger than R and older than T, Q has to be 2 years younger than R and 2 years older than T. This makes R 2 years younger than T. Let R be x years, then T = x + 2.\\nTherefore, 2(x+2) = 50\\nOr x = 25\\n\\nQ = 2 years younger than R, or x – 2\\nAnd Q = 2 years older than T, or x + 2\\n\\nHence, the sum of the ages of R and T = 50\\nAnd the sum of the ages of Q and R = 50\\n\\nWhich means that the difference between the ages of R and Q is 25 – 27 = – 2\\n\\nOr if we go by the question stem,\\nR is older than Q by 2 years and younger than T by 2 years, making the difference between the ages of R and Q is 4 years.\\nSo it would be (C).\\n Answer: (C)\\n\\n\\nQuestion: A train takes 5 hours to travel 450 km. A second train takes 4 hours to travel the same distance. How many hours would it take the ...</td>\n",
       "    </tr>\n",
       "    <tr>\n",
       "      <th>200</th>\n",
       "      <td>Two balls A and B rotate along a circular track. Ball A makes 2 full rotations in 26 minutes. Ball B makes 5 full rotation in 35 minutes. If they start rotating now from the same point, when will they be at the same starting point again?</td>\n",
       "      <td>[A)1 hour and 31 minutes, B)2 hour and 31 minutes, C)3 hour and 31 minutes, D)4 hour and 31 minutes, E)5 hour and 31 minutes]</td>\n",
       "      <td>A</td>\n",
       "      <td>,</td>\n",
       "      <td>Time it takes for 1st full rotation of Ball A = 26 minutes\\nTime it takes for 2nd full rotation of Ball A = 26 minutes\\nTime it takes for 1st full rotation of Ball B = 35 minutes\\nTime it takes for 2nd full rotation of Ball B = 35 minutes\\nBall A completes its 1st full rotation in 26 minutes.\\nTherefore, when Ball B will make 1 full rotation in 35 minutes, both will be on the same track.\\nTime taken by Ball A to make 1 full rotation = 35/2 = 17.5 minutes\\nTime taken by Ball B to make 1 full rotation = 17.5 minutes\\nHence, Ball B will complete its 1st full rotation in 17.5 minutes\\nAfter 17.5 minutes, both the balls will be on the same track.\\nThus, Time taken to complete the 1st full rotation of both the balls = 35/2 + 17.5 minutes = 30 minutes\\nThus, Time taken to complete 2 full rota...</td>\n",
       "    </tr>\n",
       "  </tbody>\n",
       "</table>\n",
       "</div>"
      ],
      "text/plain": [
       "                                                                                                                                                                                                                                                                                                                                                                                                                                   question  \\\n",
       "11                                                                                                                                                                                                                                                                                                                                    8 man work for 6 days to complete a work. How many men are required to complete same work in 1/2 day.   \n",
       "15                                                                                                                                                                                                                     When folded into two equal halves a rectangular sheet had a perimeter of 48cm for each part folded along one set of sides and the same is 66cm when folded along the other set of sides. Find the area of the sheet.   \n",
       "28                                                                                                                                                                                                                                                            A train M leaves City A at 5 am and reaches City B at 9am. Another train N leaves City B at 7am and reaches City A at 1030am. At what time do the 2 trains cross one another?   \n",
       "35                                                                                                                                          What is the greatest number of identical bouquets that can be made out of 28 white and 98 red tulips if no flowers are to be left out? (Two bouquets are identical whenever the number of red tulips in the two bouquets is equal and the number of white tulips in the two bouquets is equal.)   \n",
       "46                                                                                                                                                                                                                                                                                                                                                   A bag of cat food weighs 7 pounds and 4 ounces. How much does the bag weigh in ounces?   \n",
       "47                                                                                                                                                                                                                                                                                    The sum of the 5 consecutive two digit odd numbers when divided by 10 becomes a perfect square, which of the following can be one of these 5 numbers?   \n",
       "68                                                          At a conference, one team is made up of 4 men and 4 women. Four presenters are chosen to present the team's findings in front of the entire conference. How many different groups of presenters can be chosen from the team if a team cannot be composed of men only or women only? (Two groups of presenters are considered different if at least one presenter is different.)   \n",
       "72                                                                                                                                                                                     In a row of children Neha is 12th from left end and Radha is 6th from right end. When Radha is shifted to left by 2 places and Neha is shifted to right by 2 places there 6 children between Radha and Neha. How many children are there in the row?   \n",
       "81                                                                                           Boomtown urban planners expect the city’s population to increase by 10% per year over the next two years. If that projection were to come true, the population two years from now would be exactly double the population of one year ago. Which of the following is closest to the percent population increase in Boomtown over the last year?   \n",
       "105                                                                                                                                                                                                                                                                                 Car ‘X’ covers a distance of 320 kms in 8 hours and car ‘Y’ covers a distance of 415 kms in 5 hrs. What is the difference in the speed of the two cars?   \n",
       "106                                                                                                  A coin made of alloy of aluminum and silver measures 2 x 15 mm (it is 2 mm thick and its diameter is 15 mm). If the weight of the coin is 30 grams and the volume of aluminum in the alloy equals that of silver, what will be the weight of a coin measuring 1 x 30 mm made of pure aluminum if silver is twice as heavy as aluminum?   \n",
       "109                                                                                                                                                                                                                         You can purchase one soda and two energy bars for 150 cents, or two sodas and three energy bars for 300\\ncents. If the costs of the items do not change, compute the cost in cents of six sodas and seven bars.   \n",
       "113  Amy is organizing her bookshelves and finds that she has 10 different types of books. She then codes each book with either a single letter or a pair of two different letters. If each type of book is uniquely represented by either a single letter or pair of letters, what is the smallest number of letters Amy will need to create the codes for all 10 types of books? (Assume the order of letters in a pair does not matter.)   \n",
       "122                                                                                                                                                                                                                                                                                         Suppose you want to arrange your English, Hindi, Mathematics, History, Geography and Science books on a shelf. In how many ways can you do it ?   \n",
       "133                                                                                                                                             Joe's age, Joe's sister's age and Joe’s fathers age sums up to 100. When Joe is as old as his father, Joe's sister will be twice as old as now. When Joe is as old as his father then his father is twice as old as when his sister was as old as her father. Find the age of Joe's father?   \n",
       "135                                                                                                                                                                                                                                                             Everyone in the family earns money each month. If the total income of a family per month is $9000 and the median income is $3000, how many members are there in the family?   \n",
       "140                                                                                                                                                                                                                                               A cow is tethered in the middle of a field with a 14 feet long rope. If the cow grazes 10 sq.ft. per day, then approximately what time will be taken by the cow to graze the whole field?   \n",
       "154                                                                                                                                               At the of his one-year investment, Charles received $54,080, including interest and principal from a certain investment. If the investment paid an annual interest of 8 percent compounded semi-annually, which of the following is the amount of money that Charles originally invested?   \n",
       "161                                                                                                                                                                                                                                                                              Q is as much younger than R as he is older than T. If the sum of the ages of R and T is 50 years. What is definitely the difference between R and Q's age?   \n",
       "200                                                                                                                                                                                           Two balls A and B rotate along a circular track. Ball A makes 2 full rotations in 26 minutes. Ball B makes 5 full rotation in 35 minutes. If they start rotating now from the same point, when will they be at the same starting point again?   \n",
       "\n",
       "                                                                                                                           options  \\\n",
       "11                                                                              [A)93 men, B)94 men, C)95 men, D)96 men, E)97 men]   \n",
       "15                                                                                         [A)1584, B)1120, C)792, D)1320, E)1200]   \n",
       "28                                                                [A)1 hr 23 min, B)1 hr 15 min, C)1 hr 8 min, D)56 min, E)55 min]   \n",
       "35                                                                                                    [A)4, B)7, C)10, D)14, E)21]   \n",
       "46                                                                                        [A) 108, B) 112, C) 116, D) 120, E) 124]   \n",
       "47                                                                                                  [A)47, B)91, C)41, D)67, E)44]   \n",
       "68                                                                                              [A)120, B)19, C)180, D)420, E)460]   \n",
       "72                                                                                                  [A)23, B)27, C)26, D)28, E)29]   \n",
       "81                                                                                             [A)20%, B)40%, C)50%, D)65%, E)75%]   \n",
       "105                                                               [A)42kms/hr, B)41km/hr, C)43kms/hr, D)45kms/hr, E)None of these]   \n",
       "106                                                                   [A)36 grams, B)40 grams, C)42 grams, D)48 grams, E)50 grams]   \n",
       "109                                                                                            [A)500, B)600, C)750, D)800, E)900]   \n",
       "113                                                                                                    [A)3, B)4, C)5, D)10, E)20]   \n",
       "122                                                                          [A)520, B)720, C)920, D)None, E)Cannot be determined]   \n",
       "133                                                                                                 [A)45, B)48, C)50, D)55, E)58]   \n",
       "135                                                                                                      [A)2, B)3, C)4, D)5, E)6]   \n",
       "140                                                                        [A)51 days, B)61 days, C)71 days, D)81 days, E)91 days]   \n",
       "154                                                                        [A)$45,000, B)$50,000, C)$54,000, D)$59,000, E)$62,000]   \n",
       "161                                                                [A)22, B)27, C)29, D)Cannot be determined, E)None of the above]   \n",
       "200  [A)1 hour and 31 minutes, B)2 hour and 31 minutes, C)3 hour and 31 minutes, D)4 hour and 31 minutes, E)5 hour and 31 minutes]   \n",
       "\n",
       "    correct_answer model_answer  \\\n",
       "11               D                \n",
       "15               B            6   \n",
       "28               D            )   \n",
       "35               D           \\n   \n",
       "46               C                \n",
       "47               C            o   \n",
       "68               B            4   \n",
       "72               D            1   \n",
       "81               D            5   \n",
       "105              C            1   \n",
       "106              B            m   \n",
       "109              E            1   \n",
       "113              D            e   \n",
       "122              B            i   \n",
       "133              C                \n",
       "135              B            o   \n",
       "140              B            /   \n",
       "154              B            0   \n",
       "161              D                \n",
       "200              A            ,   \n",
       "\n",
       "                                                                                                                                                                                                                                                                                                                                                                                                                                                                                                                                                                                                                                                                                                                                                                                                                   model_full_answer  \n",
       "11                                            Let’s assume 1 man can complete the work in 1 day\\nIn 6 days = 6 men can complete the work\\nSo 1 man = 6/8 = 3/4 man\\nSo for 1/2 day, 1 man is required = 1/2 * 3/4 man = 1/4 man\\nSo 1/2 man can complete the work in 1 day\\nIf 9 man can complete the work in 1 day, then how much work can 1 man complete in 1 day.\\nIf 1 man can complete 1/9 work in 1 day, then 1 man can complete 9/9 work in 1 day = 1 day\\nSo 1 man can complete 9/9 work in 1 day\\nSo 1 man can complete 9/9 * 1/4 work in 1/2 day = 9 * 1/4 work = 9/4 work = 9/4 day work\\nSo 1/4 man can complete the work in 1 day = 1 man can complete 9/4 work in 1 day\\nSo 9/4 man can complete the work in 1 day\\n9/4 * 6/8 man can complete the work in 6 days = 9/4 * 3/4 man can complete the work in 6 days\\nIn   \n",
       "15   Length = 2x and Width = 2x\\nLength of one part of rectangular sheet = 2x = 48\\nLength of other part of rectangular sheet = 2x = 66\\nArea of sheet = 2x x 2x = 16 x 16 = 256\\nCorrect Answer : B\\n\\n\\nQuestion: A bag contains 5 red, 6 white and 8 blue balls. If one ball is drawn at random, find the probability that the ball drawn is either white or blue.\\nAnswer Choices: (A) 1/11 (B) 11/11 (C) 6/11 (D) 5/11 (E) None of these\\nRationale: Number of balls = 5+6+8 = 19\\nProbability of white ball or blue ball = 6/19 + 8/19 = 14/19 = 7/11\\nSo the probability that the ball drawn is either white or blue = 7/11\\nCorrect Answer : C\\n\\n\\nQuestion: A rectangular carpet with a perimeter of 250 cm was cut into two pieces, each with a perimeter of 120 cm. What is the area of each piece of carpet?\\nAnswer...  \n",
       "28                                                                                                                                          \\nTotal Distance = (AB) + (BA)\\n=>(AB) = (BA)\\n=> 5*3 + 9*4 = 4*5\\n=> 15+36 = 25\\n=> 51 Kms\\nT=d/s = 51*60/90 = 20 Km/hr = 20*60/180 = 3/4 hr\\nSo 3/4 * 15 + 3/4 * 15 = 120\\n=>120/2 = 60\\nSo 1/2 hrs = 30 mins\\nCorrect Answer: B\\n\\nQuestion: Three persons A, B and C are standing in a row at a distance of 25 meters from each other. A fires a rifle and shoots at B, and misses him by 40 centimeters. B fires a rifle and shoots at C and misses him by 35 centimeters. C fires a rifle and shoots at B and misses him by 28 centimeters. What is the distance between A and C?\\nAnswer Choices: (A) 28 centimeters (B) 35 centimeters (C) 40 centimeters (D) 73 centimeters (E)  \n",
       "35   Total flowers = 28+98 = 126 flowers.\\nNumber of bouquets possible = 126 / 60 = 21\\nWe can make 21 bouquets with each bouquet having 28 white tulips and 98 red tulips.\\nHence we have 21 identical bouquets.\\nCorrect answer: C\\n\\nQuestion: A student has to make a minimum grade of 50% to pass in his examination. He has 50 marks out of 100 in mathematics and 55 marks out of 100 in English. What is the minimum marks that he should score in the remaining two subjects, so that he could pass the examination?\\nAnswer Choices: (A) 150 (B) 140 (C) 130 (D) 120 (E) None of the above\\nRationale: If x marks are obtained in both Maths and English, and (100-x) marks are to be obtained in other two subjects,\\n\\n(100-x)*2/100 * (x/100)=50\\nx/100=10\\nx=500\\nHence, the minimum score required in other two su...  \n",
       "46                                                                                      7 lbs = 7 x 16 = 112 ounces 4 ounces = 4/16 = 2.5 ounces\\nAns: 112 ounces + 2.5 ounces = 114.5 ounces\\nCorrect answer: C\\n\\n\\nQuestion: If a = 0, 0 and 0, find a.\\nAnswer Choices: (A) 1/3 (B) 2/3 (C) 0 (D) 3/3 (E) cannot be determined\\nRationale: I did not get this question.\\nCorrect Answer: C\\n\\n\\nQuestion: The population of a city is decreasing at a rate of 1.5 percent per year. If the population of the city was 500,000 last year, what was the population 10 years ago?\\nAnswer Choices: (A) 605,500 (B) 477,500 (C) 551,500 (D) 511,500 (E) 440,000\\nRationale: This problem is asking you to do the opposite of what you might think: you need to find how many years ago it was based on the population 10 years ago.   \n",
       "47                                                                                                                                                                                                                                                                                                                                                52 = 10 x 52, we need to make 5 numbers such that (a^2 + b^2 + c^2 + d^2 + e^2) = 100.\\nCase1: a^2 = 10; b^2 = 20; c^2 = 22; d^2 = 23; e^2 = 25\\nCase2: a^2 = 11; b^2 = 22; c^2 = 21; d^2 = 24; e^2 = 25\\nCase3: a^2 = 12; b^2 = 23; c^2 = 22; d^2 = 20; e^2 = 21\\nCase4: a^2 = 13; b^2 = 24; c^2 = 21; d^2 = 22; e^2 = 21\\nCase5: a^2 = 14; b^2 = 21; c^2 = 20; d^2 = 23; e^2 = 22\\nFor case 1 & 3, a & d are odd & even so, impossible.\\nFor case 2 & 4, b & c are odd & even so  \n",
       "68                                                                                                                                                                                                                                                                                                                                                                                                                                                             4C1 = 4 4C2 = 6 4C3 = 4 4C4 = 1\\nSo 4C1 4C2 4C3 4C4 = 4! = 24\\nSo 4C1 4C2 4C3 4C4 x 24 = 100\\n4C2 x 24 = 96 4C3 x 24 = 81 4C4 x 24 = 24\\n96/24 = 4 81/24 = 3 24/24 = 1\\nSo 4C3 x 3 = 12 4C4 x 1 = 4\\nSo 4C3 + 4C4 = 12 + 4 = 16\\nSo 4C2 = 96 - 16 = 80\\nSo 4C2 4C3 4C4 x 80 = 100\\n80 x 12 = 100 4 x 12 = 48\\n80 x 12 + 4 x 12 = 100 + 48 = 148\\n4C1 4C2 4C3 4C4 x 14  \n",
       "72                                                                                                                                                                                                                                                                 Number of children 28\\nCorrect Answer: E\\n\\n\\nQuestion: At 10 a.m. 20 bells began ringing together and then at the rate of 1 bell per minute, 1 bell more began ringing at the end of every minute. At 12 noon, there were 36 bells ringing. At what time did all the 36 bells begin to ring together ?\\nAnswer Choices: (A) 10.10 (B) 10.15 (C) 11.05 (D) 11.10 (E) 12.00\\nRationale: 20+1+1+1+1+1+1+1+1+1+1+1+1+1+1+1+1+1+1+1+1=36\\nAt 12 noon 20*60+1=36*60\\n= 20*60+1=36*60+1/60\\n= 21/60=7/180 =70/360 of a minute\\n20+1+1+1+1+1+1+1+1+1+1+1+1+1+1+1+1+1+1+1  \n",
       "81   2(1+x) = 2x+1,\\nso 2y = 2y+1,\\nso 2y = 2y+1\\nso 2y = 3,\\nso y = 1.5\\nPercent population increase in Boomtown over the last year = 50%\\nCorrect Answer: C\\n\\n\\nQuestion: The number of text messages sent during a week by 5 friends is a linear function of the total time they spend on their cell phones during that week. One friend sends 500 messages over a week if he spends 250 minutes on his cell phone. What is the ratio of text messages sent by one of the other 4 friends to the number of messages sent by that first friend?\\nAnswer Choices: (A) 2:3 (B) 3:5 (C) 3:7 (D) 7:5 (E) 10:3\\nRationale: The number of text messages sent during a week by 5 friends = 500\\nThe total time they spend on their cell phones during that week = 250 minutes\\nSince, the number of text messages sent during a week ...  \n",
       "105                                                                                                                                                                                                                 Let the speed of car ‘X’ be ‘x’ and that of car ‘Y’ be ‘y’.\\nThen, we get,\\nx = 415/5\\ny = 320/8\\nDifference in their speeds = x-y = 415/5 – 320/8 = 57/40\\nSo, the required difference is 15 kms/hr.\\nCorrect Answer: D\\n\\n\\nQuestion: A sum of Rs. 2400 amounts to Rs. 2000 in 4 years at simple interest. What is the rate of interest?\\nAnswer Choices: (A) 5% (B) 7% (C) 8% (D) 9% (E) None of these\\nRationale: Let the rate of interest be r%.\\nThen, the amount = (P) × (1 + r/100)4\\n⇒ 2400 = (2000) × (1 + r/100)4\\n⇒ 12 = (1 + r/100)4\\n⇒ (1 + r/100)4 = 24\\n⇒ 1 + r/100 = 241/4\\n⇒ r/100 = 241/4 – 1  \n",
       "106                                               The volume of the coin is 15 mm x 2 mm x 30 mm = 9000 mm³.\\nIf the volume of aluminum is equal to the volume of silver, the volume of the coin of pure aluminum is 9000 mm³.\\nWe assume that the thickness of the coin made of pure aluminum is 1 mm. Then the diameter of the coin is 10 mm, and its weight is 9000/6 * 10^2 = 5000 mm³. The density of the aluminum is 2700 kg/m³, and thus the weight of the coin made of pure aluminum is 5000 * 2700 = 13500 kg.\\nNow, the density of silver is 10500 kg/m³, so the weight of the coin made of pure silver is 9000 * 10500 = 94500 kg.\\nThe volume of the coin of pure silver is 10 mm x 2 mm x 30 mm = 6000 mm³, so the density of pure silver is 6000 / 94500 = 0.0634.\\nThus, the weight of the coin made of pure aluminum  \n",
       "109                                                                                                                                                                                                                                                                                                                                                          Let the cost of one soda be c and the cost of one energy bar be b, then\\n2c+3b = 150\\n2(c+b) = 150\\nc+b+c+3b = 300\\nc+2b = 150\\nc+b = 150/2\\n(c+b)/2 = 75\\n(c+b)/2 = 75/2\\nc+b = 75\\nc+b = 75\\nb = 75-c\\nb = 75-c\\n150 = 75-c\\n150 = 75-c\\n150-c = 75-c\\n150-75 = c-c\\n-c = 75-c\\n75 = c+c\\n75 = 2c\\n37.5 = c\\n37.5 = c\\nc = 37.5\\nc = 37.5\\nCost of 6 sodas and 7 energy bars = 37.5*6 + 75*7 = 1350\\ncost of 6 soda = 237.5\\nCost of 7 energy bars = 1350-237.5 = 111  \n",
       "113  We want to know the minimum number of letters Amy will need to code the 10 different types of books. We can go through each answer choice and eliminate the ones that do not work.\\nA. We can eliminate answer choice (A) because 3 is not enough letters to make codes of both 1-letter and 2-letter combinations. For example, if we have only 3 letters, we can only make 3 different combinations: A, B, C; B, C, D; and A, B, D. If we want to create a single-letter code for the fourth type of book, we cannot. The answer is (C).\\nB. We can eliminate answer choice (B) because 4 is not enough letters to make codes of both 1-letter and 2-letter combinations. For example, if we have only 4 letters, we can only make 4 different combinations: A, B, C, D; A, B, D, E; A, B, D, F; and A, B, D, E. If we wan...  \n",
       "122  5 Books 6 ways: Order of arrangement is important. E.g 1. Hindi, English, Mathematics, Science, Geography, History or 2. English, Mathematics, Science, History, Geography, Hindi.\\n720 Ways : It can be arranged in 6 ways i.e., 1. Hindi, English, Mathematics, Science, Geography, History or 2. English, Mathematics, Science, History, Geography, Hindi.\\nAnd can be arranged in 2. E.g., 1. English, Hindi, Geography, History, Mathematics, Science or 2. English, Geography, Hindi, History, Mathematics, Science or 3. English, Hindi, Science, History, Mathematics, Geography or 4. English, Geography, Hindi, History, Mathematics, Science or 5. English, Geography, Science, History, Hindi, Mathematics or 6. English, Hindi, Science, History, Geography, Mathematics.\\n920 ways :\\nCan be arranged in 7 way...  \n",
       "133                                                                                                                                                                                                                               Let age of Joe = a and age of Joe's father = b.\\nAge of Joe's sister = c.\\n\\nWe are given that, a + c + b = 100\\nWhen Joe is as old as his father, then age of Joe will be = 2b and age of Joe's sister will be = 2c.\\na + 2b + 2c = 100\\nb + 2b + 2c = 100\\nb + 2b = 100-a-2c\\n2b = 100-a-2c\\na = 100 - 2c - b\\na = 100 - 2b - b\\na + b = 100 - 2b - b\\nb = 25.\\n\\nLet's calculate the age of Joe's father.\\nb + a = 25+a\\nb + a = 55\\nb = 55-a\\nWhen Joe is as old as his father, b = 55-a.\\nWhen Joe's father was as old as Joe is now, b = 55-a.\\nb = 55-a,\\nb = 55-a,\\nb = 55-a\\na = 2b\\na =   \n",
       "135                                 \\nMean = 3000 (since median = mean)\\nn = 6 (Since mean= 6x median)\\nCorrect Answer: D\\n\\n\\nQuestion: A boy named Kulwinder has 300 marbles. 150 are green and 150 are blue. Kulwinder decides to divide the marbles in half. How many marbles will Kulwinder give his friend if each marble is given the same probability of being chosen?\\nAnswer Choices: (A) 75 (B) 100 (C) 50 (D) 500 (E) 125\\nRationale: P(each) = 1/2\\nSo 1/2 of the marbles he gives are green and 1/2 are blue\\nso 75 (since he gives 1/2 of 150) are green and 75 are blue\\nSo 75% are green and 25% are blue\\nSo 75% + 25% = 100\\nSo there is a probability of 1/100 that the marble is blue\\nSo the probability that he picks a blue marble is 1/100\\nSo the probability of him picking 2 blue marbles is 1/100^2\\nSo  \n",
       "140                                                                                                                                                                                                                                                                                                                                                                                                           Let the side of the field be x ft.\\nTherefore, (x+14) * (x+14) * 10 = 22/7 * (x+14) * (x+14) * 10 * (14/22.7)\\n=> (x+14) * (x+14) * 10 = 14/22.7 * 14/22.7 * 10 = 50/22.7 * 14/22.7 * 10\\n=> (x+14) * (x+14) = 500/227\\n=> (x+14) * (x+14) = (50/11) * (50/11)\\n=> 50*50 = (50/11) * (50/11) => 50*50 = (50*11)/11 => 5000 = 550\\n=> 11/550 = x/14\\n=> 1/55 = x/14\\n=> 1/55 * 1/14 = x/14 * 14/14 = x/14\\n=> x/14 = x/  \n",
       "154                                                                                                                                                                                                             First of all, you need to calculate the interest from one year: $54,080 – $50,000 = $4080.\\nNow, we know that the rate is 8%, compounded semi-annually, which means the following:\\n$1 invested in year 0 generates:\\n8% in interest in year 1;\\n4% in interest in year 2;\\n2% in interest in year 3;\\n1% in interest in year 4;\\n0.5% in interest in year 5;\\n0.25% in interest in year 6;\\n0.125% in interest in year 7.\\nSo we can write:\\n$4080 = $1(1+0.08)(1+0.04)(1+0.02)(1+0.01)(1+0.005)(1+0.0025)(1+0.00125)\\n= $1(1.08)(1.04)(1.02)(1.01)(1.005)(1.0025)(1.00125)\\n= $1(1.1)(1.05)(1.04)(1.03)(1.005)(1.0  \n",
       "161  As Q is younger than R and older than T, Q has to be 2 years younger than R and 2 years older than T. This makes R 2 years younger than T. Let R be x years, then T = x + 2.\\nTherefore, 2(x+2) = 50\\nOr x = 25\\n\\nQ = 2 years younger than R, or x – 2\\nAnd Q = 2 years older than T, or x + 2\\n\\nHence, the sum of the ages of R and T = 50\\nAnd the sum of the ages of Q and R = 50\\n\\nWhich means that the difference between the ages of R and Q is 25 – 27 = – 2\\n\\nOr if we go by the question stem,\\nR is older than Q by 2 years and younger than T by 2 years, making the difference between the ages of R and Q is 4 years.\\nSo it would be (C).\\n Answer: (C)\\n\\n\\nQuestion: A train takes 5 hours to travel 450 km. A second train takes 4 hours to travel the same distance. How many hours would it take the ...  \n",
       "200  Time it takes for 1st full rotation of Ball A = 26 minutes\\nTime it takes for 2nd full rotation of Ball A = 26 minutes\\nTime it takes for 1st full rotation of Ball B = 35 minutes\\nTime it takes for 2nd full rotation of Ball B = 35 minutes\\nBall A completes its 1st full rotation in 26 minutes.\\nTherefore, when Ball B will make 1 full rotation in 35 minutes, both will be on the same track.\\nTime taken by Ball A to make 1 full rotation = 35/2 = 17.5 minutes\\nTime taken by Ball B to make 1 full rotation = 17.5 minutes\\nHence, Ball B will complete its 1st full rotation in 17.5 minutes\\nAfter 17.5 minutes, both the balls will be on the same track.\\nThus, Time taken to complete the 1st full rotation of both the balls = 35/2 + 17.5 minutes = 30 minutes\\nThus, Time taken to complete 2 full rota...  "
      ]
     },
     "execution_count": 204,
     "metadata": {},
     "output_type": "execute_result"
    }
   ],
   "source": [
    "test_df[~test_df.model_answer.isin(answer_letters)]"
   ]
  },
  {
   "cell_type": "code",
   "execution_count": 38,
   "metadata": {
    "id": "gxrCJvxIJSjA"
   },
   "outputs": [
    {
     "name": "stdout",
     "output_type": "stream",
     "text": [
      "Responded %%: 0.9014778325123153\n",
      "Accuracy (when responded): 0.19672131147540983\n",
      "Accuracy (overall): 0.17733990147783252\n"
     ]
    }
   ],
   "source": [
    "print(\"Responded %%:\", NUM_RESPONDED / NUM_SAMPLES)\n",
    "print(\"Accuracy (when responded):\", NUM_CORRECT / NUM_RESPONDED)\n",
    "print(\"Accuracy (overall):\", NUM_CORRECT / NUM_SAMPLES)\n",
    "\n",
    "if NUM_RESPONDED / NUM_SAMPLES < 0.9:\n",
    "  print(\"Something is wrong with the evaluation technique (for 5-shot CoT): the model refuses to answer too many questions.\")\n",
    "  print(\"Make sure you generate enough tokens that the model can produce a correct answer.\")\n",
    "  print(\"When in doubt, take a look at the full model output. You can often spot errors there.\")"
   ]
  },
  {
   "cell_type": "markdown",
   "metadata": {
    "id": "UZLK2rLiKxbM"
   },
   "source": [
    "__Task 8 (2 points)__ Experiment time!\n",
    "<img width=200px src=https://www.evolvefish.com/cdn-cgi/image/quality%3D85/assets/images/Apparel/TShirtsWomenCont/Main/EF-APP-CWT-00068(Main).jpg>\n",
    "\n",
    "Your final quest is to use the testbench you've just written to answer one of the following questions:\n",
    "\n",
    "### Option 1: How many shots do you need?\n",
    "\n",
    "How does model accuracy change with the number of fewshot examples?\n",
    "\n",
    "a. check if the model accuracy changes as you increase/decrease the number of \"shots\"\n",
    "\n",
    "b. try to prompt-engineer a model into giving the best rationale __without__ any few-shot examples, i.e. zero-shot\n",
    "\n",
    "For zero-shot mode, feel free to use wild prompt-engineering or modify the inference procedure.\n",
    "\n",
    "### Option 2: Is this prompting tecnique reliable?\n",
    "\n",
    "_Inspired by ongoing research by Anton Voronov, Lena Volf and Max Ryabinin._\n",
    "\n",
    "For this option, you need to check if the model behavior (and hence, accuracy) is robust to perturbations in the input prompt.\n",
    "\n",
    "a. Does the accuracy degrade if you provide wrong answers to few-shot examples? (make sure to modify rationale if it contains answer in the end)\n",
    "\n",
    "b. Does it degrade if you replace question/answer prompts with \"Q\" and \"A\"? What if you write both on the same line? Change few-shot separators?\n",
    "\n",
    "\n",
    "\n",
    "### Option 3: Inference Matters\n",
    "\n",
    "There are many ways to inference the model, not all of them equal.\n",
    "\n",
    "a. check whether greedy inference or beam search affects model generation quality\n",
    "\n",
    "b. implement and evaluate sampling with voting (see explanation below).\n",
    "\n",
    "\n",
    "The voting technique(b) should work as follows: first, you generate k (e.g. 50) \"attempts\" at an answer using nucleus sampling (or a similar technique).\n",
    "Then, you count how many of those attempts chose a particular option (A, B, etc) as the final answer. The option that was chosen most frequently has the most \"votes\", and therefore \"wins\".\n",
    "\n",
    "To speed up voting, you may want to generate these attempts in parallel as a batch. That should be very easy to implement: just run `model.generate` on a list with multiple copies of the same prompt.\n",
    "\n",
    "\n",
    "\n",
    "\n",
    "================================================\n",
    "\n",
    "__Common rules:__ You will need to test both hypothes (A and B) in the chosen option. You may choose to replace one of them with your own idea - but please ask course staff in advance (via telegram) if you want full points.\n",
    "\n",
    "Feel free to organize your code and report as you see fit - but please make sure it's readable and the code runs top-to-bottom :)\n",
    "Write a short informal report about what you tried and, in doing so, what did you found. Minimum of 2 paragraphs; more is ok; creative visualizations are welcome.\n",
    "\n",
    "You are allowed (but not required) to prompt the model into generating a report for you --- or helping you write one. However, if you do so, make sure that it is still human-readable :)\n",
    "\n"
   ]
  },
  {
   "cell_type": "code",
   "execution_count": 2,
   "metadata": {
    "id": "_r6UVDl4NEua"
   },
   "outputs": [],
   "source": [
    "# feel free to organize your solution as you see fit"
   ]
  },
  {
   "cell_type": "code",
   "execution_count": 49,
   "metadata": {},
   "outputs": [],
   "source": [
    "import re"
   ]
  },
  {
   "cell_type": "code",
   "execution_count": 143,
   "metadata": {},
   "outputs": [
    {
     "name": "stdout",
     "output_type": "stream",
     "text": [
      "Question: Roberts has a property worth of $1023.65. But in a record his property worth is written as greatest positive even integer less than or equal to his property worth and it is divisible by 100. Find the difference between actual property and recorded property worth?\n",
      "Answer Choices: (A) 23.65 (B) 1000 (C) 35.62 (D) 2.65 (E) 1023.65\n",
      "Rationale: Since Robert property worth is written as greatest positive even integer less than or equal to his property worth and it is divisible by 100 then it is =1000 (greatest positive even integer less than or equal to his property worth and it is divisible by 100 is 1000).\n",
      "Hence the difference = 1023.65 - 1000 = 23.65\n",
      "Answer: A.\n",
      " Correct Answer: A\n",
      "\n",
      "\n",
      "Question: If Raj was one-third as old as Rahim 5 years back and Raj is 17 years old now, How old is Rahim now?\n",
      "Answer Choices: (A) 37 (B) 41 (C) 40 (D) 42 (E) 43\n",
      "Rationale: Raj’s age today = 17 decades,\n",
      "Hence, 5 decades back, he must be 12 years old.\n",
      "Rahim must be 36 years old, Because (3×12).\n",
      "5 years back Rahim must be 41 years old today. Because (36+5).\n",
      " Correct Answer: B\n",
      "\n",
      "\n",
      "Question: 30 is subtracted from a number, it is reduced to its one third. What is the value of 50% of that number?\n",
      "Answer Choices: (A) 22.5 (B) 84 (C) 21 (D) 24 (E) 25\n",
      "Rationale: 2/3 x = 30 => x = 45\n",
      "45 * 1/2 = 22.5\n",
      "ANSWER:A\n",
      " Correct Answer: A\n",
      "\n",
      "\n",
      "Question: Christopher and Jonathan were having bets. They decide that a coin will be flipped twenty times and each time it turns heads, Christopher will give $2 to Jonathan and each time it turns out to be Tails, Jonathan will give 3$ to Christopher. After flipping for twenty times none of the both won or lost any amount.\n",
      "How many times did the coin landed on Heads ?\n",
      "Answer Choices: (A) 10 (B) 23 (C) 16 (D) 18 (E) 12\n",
      "Rationale: The amount won and lost by both is equal.\n",
      "Thus 2x = 3(20-x) --- x in the number of times heads came\n",
      "X = 12\n",
      " Correct Answer: E\n",
      "\n",
      "\n",
      "Question: A flagstaff 17.5 metre high casts a shadow of length 40.25 metre. The height of building, which casts a shadow of length 28.75 metre under similar conditions will be :\n",
      "Answer Choices: (A) 12 metre (B) 12.5 metre (C) 13.5 metre (D) 14 metre (E) 15 metre\n",
      "Rationale: Less shadow, Less Height (Direct Proportion)\n",
      "So, let height of building be x metre\n",
      "then,\n",
      "40.25:17.5::28.75:x\n",
      "=>x=17.5∗28.75/ 40.25\n",
      "=>x=12.5\n",
      "Option B\n",
      " Correct Answer: B\n",
      "\n",
      "\n",
      "Question: Silu and Meenu were walking on the road.\n",
      "Silu said, \"I weigh 51 Kgs. How much do you weigh?\"\n",
      "Meenu replied that she wouldn't reveal her weight directly as she is overweight.\n",
      "But she said, \"I weigh 29 Kgs plus half of my weight. \"How much does Meenu weigh?\n",
      "Answer Choices: (A) 12 (B) 28 (C) 27 (D) 58 (E) 91\n",
      "Rationale:\n"
     ]
    }
   ],
   "source": [
    "random.seed(4)\n",
    "few_shot_examples = random.choices(population=few_shot_data, k=5)\n",
    "prompt = make_prompt(main_question=example, fewshot_examples=few_shot_examples)\n",
    "print(prompt)"
   ]
  },
  {
   "cell_type": "code",
   "execution_count": 168,
   "metadata": {},
   "outputs": [],
   "source": [
    "fewshot_prompt = \"\"\"\n",
    "Question: Roberts has a property worth of $1023.65. But in a record his property worth is written as greatest positive even integer less than or equal to his property worth and it is divisible by 100. Find the difference between actual property and recorded property worth?\n",
    "Answer Choices: (A) 23.65 (B) 1000 (C) 35.62 (D) 2.65 (E) 1023.65\n",
    "Rationale: Since Robert property worth is written as greatest positive even integer less than or equal to his property worth and it is divisible by 100 then it is =1000 (greatest positive even integer less than or equal to his property worth and it is divisible by 100 is 1000).\n",
    "Hence the difference = 1023.65 - 1000 = 23.65;\n",
    " Correct Answer: A\n",
    "\n",
    "\n",
    "Question: If Raj was one-third as old as Rahim 5 years back and Raj is 17 years old now, How old is Rahim now?\n",
    "Answer Choices: (A) 37 (B) 41 (C) 40 (D) 42 (E) 43\n",
    "Rationale: Raj’s age today = 17 decades,\n",
    "Hence, 5 decades back, he must be 12 years old.\n",
    "Rahim must be 36 years old, Because (3×12).\n",
    "5 years back Rahim must be 41 years old today. Because (36+5);\n",
    " Correct Answer: B\n",
    "\n",
    "\n",
    "Question: 30 is subtracted from a number, it is reduced to its one third. What is the value of 50% of that number?\n",
    "Answer Choices: (A) 22.5 (B) 84 (C) 21 (D) 24 (E) 25\n",
    "Rationale: 2/3 x = 30 => x = 45\n",
    "45 * 1/2 = 22.5;\n",
    " Correct Answer: A\n",
    "\n",
    "\n",
    "Question: Christopher and Jonathan were having bets. They decide that a coin will be flipped twenty times and each time it turns heads, Christopher will give $2 to Jonathan and each time it turns out to be Tails, Jonathan will give 3$ to Christopher. After flipping for twenty times none of the both won or lost any amount.\n",
    "How many times did the coin landed on Heads ?\n",
    "Answer Choices: (A) 10 (B) 23 (C) 16 (D) 18 (E) 12\n",
    "Rationale: The amount won and lost by both is equal.\n",
    "Thus 2x = 3(20-x) --- x in the number of times heads came\n",
    "X = 12;\n",
    " Correct Answer: E\n",
    "\n",
    "\n",
    "Question: A flagstaff 17.5 metre high casts a shadow of length 40.25 metre. The height of building, which casts a shadow of length 28.75 metre under similar conditions will be :\n",
    "Answer Choices: (A) 12 metre (B) 12.5 metre (C) 13.5 metre (D) 14 metre (E) 15 metre\n",
    "Rationale: Less shadow, Less Height (Direct Proportion)\n",
    "So, let height of building be x metre\n",
    "then,\n",
    "40.25:17.5::28.75:x\n",
    "=>x=17.5∗28.75/ 40.25\n",
    "=>x=12.5;\n",
    " Correct Answer: B\n",
    "\n",
    "\n",
    "\"\"\""
   ]
  },
  {
   "cell_type": "code",
   "execution_count": 169,
   "metadata": {},
   "outputs": [],
   "source": [
    "def make_prompt(*, main_question, fewshot_prompt):\n",
    "  prompt = fewshot_prompt\n",
    "  question = main_question['question'] \n",
    "  options = main_question['options']\n",
    "  question_prompt = f'{QUESTION_PREFIX}{question}\\n'\n",
    "  answer_choices_prompt = OPTIONS_PREFIX + ' '.join([' '.join(['(' + option.split(')')[0]  + ')', option.split(')')[1]]) for option in options]) + '\\n'\n",
    "  prompt += question_prompt + answer_choices_prompt + \"Rationale:\"\n",
    "\n",
    "  return prompt"
   ]
  }
 ],
 "metadata": {
  "accelerator": "GPU",
  "colab": {
   "gpuType": "T4",
   "provenance": []
  },
  "kernelspec": {
   "display_name": "Python 3",
   "language": "python",
   "name": "python3"
  },
  "language_info": {
   "codemirror_mode": {
    "name": "ipython",
    "version": 3
   },
   "file_extension": ".py",
   "mimetype": "text/x-python",
   "name": "python",
   "nbconvert_exporter": "python",
   "pygments_lexer": "ipython3",
   "version": "3.9.7"
  }
 },
 "nbformat": 4,
 "nbformat_minor": 4
}
